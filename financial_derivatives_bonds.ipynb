{
  "nbformat": 4,
  "nbformat_minor": 0,
  "metadata": {
    "colab": {
      "name": "financial-derivatives-bonds.ipynb",
      "provenance": [],
      "collapsed_sections": [],
      "toc_visible": true,
      "authorship_tag": "ABX9TyMIVve/qVN/szuvF2sLy+Zv",
      "include_colab_link": true
    },
    "kernelspec": {
      "name": "python3",
      "display_name": "Python 3"
    }
  },
  "cells": [
    {
      "cell_type": "markdown",
      "metadata": {
        "id": "view-in-github",
        "colab_type": "text"
      },
      "source": [
        "<a href=\"https://colab.research.google.com/github/tradeasystems/colab_test/blob/master/financial_derivatives_bonds.ipynb\" target=\"_parent\"><img src=\"https://colab.research.google.com/assets/colab-badge.svg\" alt=\"Open In Colab\"/></a>"
      ]
    },
    {
      "cell_type": "markdown",
      "metadata": {
        "id": "lOzWam8idBu9",
        "colab_type": "text"
      },
      "source": [
        "# Fixed Income module\n",
        "\n",
        "https://www.udemy.com/course/financial-derivatives/\n",
        "\n"
      ]
    },
    {
      "cell_type": "code",
      "metadata": {
        "id": "Kg9KTevoeSDF",
        "colab_type": "code",
        "colab": {
          "base_uri": "https://localhost:8080/",
          "height": 204
        },
        "outputId": "2a2ca5e3-93da-4166-f220-839cca898f27"
      },
      "source": [
        "# must upload fixedincome.py from udemy course \n",
        "!wget https://raw.githubusercontent.com/tradeasystems/colab_test/master/fixedincome.py"
      ],
      "execution_count": 2,
      "outputs": [
        {
          "output_type": "stream",
          "text": [
            "--2020-03-28 17:30:56--  https://raw.githubusercontent.com/tradeasystems/colab_test/master/fixedincome.py\n",
            "Resolving raw.githubusercontent.com (raw.githubusercontent.com)... 151.101.0.133, 151.101.64.133, 151.101.128.133, ...\n",
            "Connecting to raw.githubusercontent.com (raw.githubusercontent.com)|151.101.0.133|:443... connected.\n",
            "HTTP request sent, awaiting response... 200 OK\n",
            "Length: 36905 (36K) [text/plain]\n",
            "Saving to: ‘fixedincome.py’\n",
            "\n",
            "\rfixedincome.py        0%[                    ]       0  --.-KB/s               \rfixedincome.py      100%[===================>]  36.04K  --.-KB/s    in 0.009s  \n",
            "\n",
            "2020-03-28 17:30:56 (4.10 MB/s) - ‘fixedincome.py’ saved [36905/36905]\n",
            "\n"
          ],
          "name": "stdout"
        }
      ]
    },
    {
      "cell_type": "code",
      "metadata": {
        "id": "VlIYPcjScg83",
        "colab_type": "code",
        "colab": {}
      },
      "source": [
        "import fixedincome as fi"
      ],
      "execution_count": 0,
      "outputs": []
    },
    {
      "cell_type": "markdown",
      "metadata": {
        "id": "j6JgdyDljJLs",
        "colab_type": "text"
      },
      "source": [
        "## Bonds Exercises\n",
        "\n",
        "\n",
        "https://www.udemy.com/course/financial-derivatives/learn/lecture/15082442#questions"
      ]
    },
    {
      "cell_type": "markdown",
      "metadata": {
        "id": "zzUFg0--dHWB",
        "colab_type": "text"
      },
      "source": [
        "#### Bond Example\n"
      ]
    },
    {
      "cell_type": "code",
      "metadata": {
        "id": "st_A09awdJb9",
        "colab_type": "code",
        "outputId": "69c6234d-8dd5-42ff-e61e-f61a7d920825",
        "colab": {
          "base_uri": "https://localhost:8080/",
          "height": 34
        }
      },
      "source": [
        "#The payment dates must all be floating point numbers,\n",
        "#bond factory\n",
        "'''\n",
        "bond making payments in 6 months, 1 year, and 18 months of $5, $5, and $105\n",
        "'''\n",
        "bond = fi.bond_factory(dates = [0.5, 1.0, 1.5], rates = [5, 5, 105])\n",
        "bond"
      ],
      "execution_count": 4,
      "outputs": [
        {
          "output_type": "execute_result",
          "data": {
            "text/plain": [
              "<fixedincome.relative_bond at 0x7f67cf9d1358>"
            ]
          },
          "metadata": {
            "tags": []
          },
          "execution_count": 4
        }
      ]
    },
    {
      "cell_type": "code",
      "metadata": {
        "id": "TUcGTgl2dkji",
        "colab_type": "code",
        "colab": {}
      },
      "source": [
        "#Coupon bond\n",
        "'''\n",
        "This creates a bond object for a 5 year bond with a $1000 face value paying a 6%\n",
        "coupon rate with semiannual payments.\n",
        "'''\n",
        "coupon_bond = fi.create_coupon_bond(maturity = 5, face = 1000, rate = 6, frequency = 2)"
      ],
      "execution_count": 0,
      "outputs": []
    },
    {
      "cell_type": "code",
      "metadata": {
        "id": "0p3SpfADd6l8",
        "colab_type": "code",
        "outputId": "7628b5df-b373-4417-fc90-579f8314dd1a",
        "colab": {
          "base_uri": "https://localhost:8080/",
          "height": 34
        }
      },
      "source": [
        "coupon_bond.get_dates()"
      ],
      "execution_count": 6,
      "outputs": [
        {
          "output_type": "execute_result",
          "data": {
            "text/plain": [
              "[0.5, 1.0, 1.5, 2.0, 2.5, 3.0, 3.5, 4.0, 4.5, 5.0]"
            ]
          },
          "metadata": {
            "tags": []
          },
          "execution_count": 6
        }
      ]
    },
    {
      "cell_type": "code",
      "metadata": {
        "id": "ss8Nv-Eld-G3",
        "colab_type": "code",
        "outputId": "76755665-e71a-4c1d-da9a-449ebca696b5",
        "colab": {
          "base_uri": "https://localhost:8080/",
          "height": 34
        }
      },
      "source": [
        "coupon_bond.get_coupons()"
      ],
      "execution_count": 7,
      "outputs": [
        {
          "output_type": "execute_result",
          "data": {
            "text/plain": [
              "[30.0, 30.0, 30.0, 30.0, 30.0, 30.0, 30.0, 30.0, 30.0, 1030.0]"
            ]
          },
          "metadata": {
            "tags": []
          },
          "execution_count": 7
        }
      ]
    },
    {
      "cell_type": "code",
      "metadata": {
        "id": "jJWm3gMOe-Bt",
        "colab_type": "code",
        "outputId": "af1d9731-8a29-4ecd-a41e-2a6f1fc5fa1c",
        "colab": {
          "base_uri": "https://localhost:8080/",
          "height": 34
        }
      },
      "source": [
        "coupon_bond.get_price()"
      ],
      "execution_count": 8,
      "outputs": [
        {
          "output_type": "stream",
          "text": [
            "No price available\n"
          ],
          "name": "stdout"
        }
      ]
    },
    {
      "cell_type": "code",
      "metadata": {
        "id": "3-7XVLGOfHPF",
        "colab_type": "code",
        "outputId": "8587cc00-ede6-4bd9-faf9-fd23c5c0f5a2",
        "colab": {
          "base_uri": "https://localhost:8080/",
          "height": 34
        }
      },
      "source": [
        "coupon_bond.set_price(75)\n",
        "coupon_bond.get_price()"
      ],
      "execution_count": 9,
      "outputs": [
        {
          "output_type": "execute_result",
          "data": {
            "text/plain": [
              "75"
            ]
          },
          "metadata": {
            "tags": []
          },
          "execution_count": 9
        }
      ]
    },
    {
      "cell_type": "code",
      "metadata": {
        "id": "cfj98oJwfO-f",
        "colab_type": "code",
        "outputId": "da522e9b-9d5e-4a2a-da10-4c46d9ec399b",
        "colab": {
          "base_uri": "https://localhost:8080/",
          "height": 34
        }
      },
      "source": [
        "coupon_bond.YTM()#1-100\n",
        "\n"
      ],
      "execution_count": 10,
      "outputs": [
        {
          "output_type": "execute_result",
          "data": {
            "text/plain": [
              "101.16673444556777"
            ]
          },
          "metadata": {
            "tags": []
          },
          "execution_count": 10
        }
      ]
    },
    {
      "cell_type": "code",
      "metadata": {
        "id": "8DGDw9q2flpa",
        "colab_type": "code",
        "outputId": "fc733c33-9205-4c01-a9d7-bc6cd85aeb8d",
        "colab": {
          "base_uri": "https://localhost:8080/",
          "height": 295
        }
      },
      "source": [
        "coupon_bond.plot_payments()"
      ],
      "execution_count": 11,
      "outputs": [
        {
          "output_type": "display_data",
          "data": {
            "image/png": "[encoded data removed]",
            "text/plain": [
              "<Figure size 432x288 with 1 Axes>"
            ]
          },
          "metadata": {
            "tags": []
          }
        }
      ]
    },
    {
      "cell_type": "code",
      "metadata": {
        "id": "vQZXyy0DjIuh",
        "colab_type": "code",
        "colab": {}
      },
      "source": [
        ""
      ],
      "execution_count": 0,
      "outputs": []
    },
    {
      "cell_type": "markdown",
      "metadata": {
        "id": "mljEB6R3fuUm",
        "colab_type": "text"
      },
      "source": [
        "### 1: Try creating a bond object for a particular coupon bond.  For example, for a 3 year bond with a $10,000 face value paying a 7% coupon with semiannual payments\n",
        "\n"
      ]
    },
    {
      "cell_type": "code",
      "metadata": {
        "id": "vP6OG49jf2rI",
        "colab_type": "code",
        "outputId": "af30ef9f-a3ea-416a-e0b6-1763e0e4c85f",
        "colab": {
          "base_uri": "https://localhost:8080/",
          "height": 329
        }
      },
      "source": [
        "bond = fi.create_coupon_bond(maturity = 3, face = 10000, rate = 7, frequency = 2)\n",
        "#check it\n",
        "print(bond.get_dates())\n",
        "print(bond.get_coupons())\n",
        "bond.plot_payments()"
      ],
      "execution_count": 12,
      "outputs": [
        {
          "output_type": "stream",
          "text": [
            "[0.5, 1.0, 1.5, 2.0, 2.5, 3.0]\n",
            "[350.00000000000006, 350.00000000000006, 350.00000000000006, 350.00000000000006, 350.00000000000006, 10350.0]\n"
          ],
          "name": "stdout"
        },
        {
          "output_type": "display_data",
          "data": {
            "image/png": "[encoded data removed]",
            "text/plain": [
              "<Figure size 432x288 with 1 Axes>"
            ]
          },
          "metadata": {
            "tags": []
          }
        }
      ]
    },
    {
      "cell_type": "markdown",
      "metadata": {
        "id": "7UVcSTKVgU8f",
        "colab_type": "text"
      },
      "source": [
        "### 2: The bond functionality in this module provides a laboratory for exploring the relationship between the prices and yields of bonds.  You can just create some coupon bonds and then compute the yield to maturity for different prices.  To get started, let's make a 10 year bond with a 9% coupon:\n"
      ]
    },
    {
      "cell_type": "code",
      "metadata": {
        "id": "Q5ecANHwgYEy",
        "colab_type": "code",
        "outputId": "8a069df9-051b-4900-c9c1-bd8e5f1ce2e4",
        "colab": {
          "base_uri": "https://localhost:8080/",
          "height": 51
        }
      },
      "source": [
        "bond_1 = fi.create_coupon_bond(maturity = 10, face = 10000, rate = 9, frequency = 2)\n",
        "#check it\n",
        "print(bond.get_dates())\n",
        "print(bond.get_coupons())"
      ],
      "execution_count": 13,
      "outputs": [
        {
          "output_type": "stream",
          "text": [
            "[0.5, 1.0, 1.5, 2.0, 2.5, 3.0]\n",
            "[350.00000000000006, 350.00000000000006, 350.00000000000006, 350.00000000000006, 350.00000000000006, 10350.0]\n"
          ],
          "name": "stdout"
        }
      ]
    },
    {
      "cell_type": "code",
      "metadata": {
        "id": "D8NXkDINgpi2",
        "colab_type": "code",
        "outputId": "f1f1b452-7753-4923-a0f4-85e264f41932",
        "colab": {
          "base_uri": "https://localhost:8080/",
          "height": 34
        }
      },
      "source": [
        "bond_1.YTM(10000)"
      ],
      "execution_count": 14,
      "outputs": [
        {
          "output_type": "execute_result",
          "data": {
            "text/plain": [
              "8.999999999999956"
            ]
          },
          "metadata": {
            "tags": []
          },
          "execution_count": 14
        }
      ]
    },
    {
      "cell_type": "markdown",
      "metadata": {
        "id": "2-Okq1ESg458",
        "colab_type": "text"
      },
      "source": [
        "#### Study relationship price - yield\n"
      ]
    },
    {
      "cell_type": "code",
      "metadata": {
        "id": "aiz5ZVW8g8pj",
        "colab_type": "code",
        "colab": {}
      },
      "source": [
        "prices = [ i for i in range(8000,13000,500)]\n",
        "yields = [bond_1.YTM(price) for price in prices]"
      ],
      "execution_count": 0,
      "outputs": []
    },
    {
      "cell_type": "code",
      "metadata": {
        "id": "tXRF2VOQhWfS",
        "colab_type": "code",
        "outputId": "fd7ce043-8e75-4c45-f582-fd5cba2d23c2",
        "colab": {
          "base_uri": "https://localhost:8080/",
          "height": 204
        }
      },
      "source": [
        "import pandas as pd\n",
        "df = pd.DataFrame(columns=['price','yield'])\n",
        "df['price']=prices\n",
        "df['yield'] = yields\n",
        "df.head()"
      ],
      "execution_count": 16,
      "outputs": [
        {
          "output_type": "execute_result",
          "data": {
            "text/html": [
              "<div>\n",
              "<style scoped>\n",
              "    .dataframe tbody tr th:only-of-type {\n",
              "        vertical-align: middle;\n",
              "    }\n",
              "\n",
              "    .dataframe tbody tr th {\n",
              "        vertical-align: top;\n",
              "    }\n",
              "\n",
              "    .dataframe thead th {\n",
              "        text-align: right;\n",
              "    }\n",
              "</style>\n",
              "<table border=\"1\" class=\"dataframe\">\n",
              "  <thead>\n",
              "    <tr style=\"text-align: right;\">\n",
              "      <th></th>\n",
              "      <th>price</th>\n",
              "      <th>yield</th>\n",
              "    </tr>\n",
              "  </thead>\n",
              "  <tbody>\n",
              "    <tr>\n",
              "      <th>0</th>\n",
              "      <td>8000</td>\n",
              "      <td>12.568248</td>\n",
              "    </tr>\n",
              "    <tr>\n",
              "      <th>1</th>\n",
              "      <td>8500</td>\n",
              "      <td>11.570079</td>\n",
              "    </tr>\n",
              "    <tr>\n",
              "      <th>2</th>\n",
              "      <td>9000</td>\n",
              "      <td>10.649325</td>\n",
              "    </tr>\n",
              "    <tr>\n",
              "      <th>3</th>\n",
              "      <td>9500</td>\n",
              "      <td>9.795483</td>\n",
              "    </tr>\n",
              "    <tr>\n",
              "      <th>4</th>\n",
              "      <td>10000</td>\n",
              "      <td>9.000000</td>\n",
              "    </tr>\n",
              "  </tbody>\n",
              "</table>\n",
              "</div>"
            ],
            "text/plain": [
              "   price      yield\n",
              "0   8000  12.568248\n",
              "1   8500  11.570079\n",
              "2   9000  10.649325\n",
              "3   9500   9.795483\n",
              "4  10000   9.000000"
            ]
          },
          "metadata": {
            "tags": []
          },
          "execution_count": 16
        }
      ]
    },
    {
      "cell_type": "code",
      "metadata": {
        "id": "zJp8czsjhbsR",
        "colab_type": "code",
        "outputId": "a07bbf88-b4c4-4261-ce98-103c1a945533",
        "colab": {
          "base_uri": "https://localhost:8080/",
          "height": 312
        }
      },
      "source": [
        "import matplotlib.pyplot as plt\n",
        "\n",
        "df.plot.scatter(x='price',y='yield')\n",
        "plt.title('relationship price - yield')"
      ],
      "execution_count": 17,
      "outputs": [
        {
          "output_type": "execute_result",
          "data": {
            "text/plain": [
              "Text(0.5, 1.0, 'relationship price - yield')"
            ]
          },
          "metadata": {
            "tags": []
          },
          "execution_count": 17
        },
        {
          "output_type": "display_data",
          "data": {
            "image/png": "[encoded data removed]",
            "text/plain": [
              "<Figure size 432x288 with 1 Axes>"
            ]
          },
          "metadata": {
            "tags": []
          }
        }
      ]
    },
    {
      "cell_type": "code",
      "metadata": {
        "id": "MaBTDizbic5Y",
        "colab_type": "code",
        "outputId": "1dbe1d25-6a6e-4a2d-8732-2350fa282d51",
        "colab": {
          "base_uri": "https://localhost:8080/",
          "height": 51
        }
      },
      "source": [
        "#DV01\n",
        "# DV01 or Dollar Value of 1 basis point measures the interest rate risk of bond\n",
        "#  or portfolio of bonds by estimating the price change in dollar terms in\n",
        "#  response to change in yield by a single basis point\n",
        "# https://www.wallstreetmojo.com/dv01/\n",
        "\n",
        "#DV01 = -(delta yield)/[(delta price)*10000]\n",
        "price_1 = 100\n",
        "yield_1 = bond_1.YTM(price=price_1)\n",
        "price_2 = 80\n",
        "yield_2 = bond_1.YTM(price=price_2)\n",
        "\n",
        "dv01 = -(yield_2-yield_1)/((price_2-price_1)*10000)\n",
        "print('A movement of 1bps(0.01 pct) up in the yield will move down the price %.4f points'%dv01)\n",
        "print('A movement of 1 figure(1 pct) up in the yield will move down the price %.4f points'%(dv01*1000))"
      ],
      "execution_count": 18,
      "outputs": [
        {
          "output_type": "stream",
          "text": [
            "A movement of 1bps(0.01 pct) up in the yield will move down the price 0.0011 points\n",
            "A movement of 1 figure(1 pct) up in the yield will move down the price 1.1250 points\n"
          ],
          "name": "stdout"
        }
      ]
    },
    {
      "cell_type": "markdown",
      "metadata": {
        "id": "vpX8Ui_zjmlE",
        "colab_type": "text"
      },
      "source": [
        "## Yield Curves I\n",
        "\n",
        "https://www.udemy.com/course/financial-derivatives/learn/lecture/15083416#questions\n"
      ]
    },
    {
      "cell_type": "markdown",
      "metadata": {
        "id": "6a9SQaJqkTu7",
        "colab_type": "text"
      },
      "source": [
        "yield_curve = fi.curve_factory(dates, rates)\n",
        "* dates is assumed to be a list of tenors specified by year fractions , must be entered as percentages assumed\n",
        "* spot rates are assumed to be continuously compounded\n",
        "\n",
        "Yhe curve is can be  built:\n",
        "1. hermite: Hermite interpolation,based on the Catmull-Rom procedure\n",
        "2. natural: cubic splines with natural boundary conditions\n",
        "3. pwlinear **[default]** : piecewise linear interpolation\n",
        "\n"
      ]
    },
    {
      "cell_type": "code",
      "metadata": {
        "id": "1Xtwgjwtjqna",
        "colab_type": "code",
        "colab": {
          "base_uri": "https://localhost:8080/",
          "height": 295
        },
        "outputId": "40de06e9-0322-4f19-86da-b21fd9115964"
      },
      "source": [
        "#curve object implementing a yield curve with a \n",
        "#0.8% spot rate at the 3 month tenor, a 0.95% spot rate at the 6 month tenor,\n",
        "# a 1.16% spot rate at the 1 year tenor\n",
        "\n",
        "tenors = [0.25, 0.5, 1.0, 1.5, 2.0, 3.0, 4.0, 5.0]\n",
        "spot_rates = [0.8, 0.95, 1.16, 1.4, 1.65, 2.1, 2.6, 3.0]\n",
        "# yield_curve = fi.curve_factory(dates = tenors, rates = spot_rates)\n",
        "yield_curve = fi.curve_factory(dates = tenors, rates = spot_rates, method=\"hermite\")\n",
        "yield_curve.plot_yields()"
      ],
      "execution_count": 19,
      "outputs": [
        {
          "output_type": "display_data",
          "data": {
            "image/png": "[encoded data removed]",
            "text/plain": [
              "<Figure size 432x288 with 1 Axes>"
            ]
          },
          "metadata": {
            "tags": []
          }
        }
      ]
    },
    {
      "cell_type": "code",
      "metadata": {
        "id": "ft3pWf1Pl_0l",
        "colab_type": "code",
        "colab": {
          "base_uri": "https://localhost:8080/",
          "height": 295
        },
        "outputId": "29fb81f4-7b18-47e2-ce6c-0668e0582c22"
      },
      "source": [
        "yield_curve = fi.curve_factory(dates = tenors, rates = spot_rates, method=\"natural\")\n",
        "yield_curve.plot_yields()\n"
      ],
      "execution_count": 20,
      "outputs": [
        {
          "output_type": "display_data",
          "data": {
            "image/png": "[encoded data removed]",
            "text/plain": [
              "<Figure size 432x288 with 1 Axes>"
            ]
          },
          "metadata": {
            "tags": []
          }
        }
      ]
    },
    {
      "cell_type": "code",
      "metadata": {
        "id": "Oajk-cgdmIx-",
        "colab_type": "code",
        "colab": {
          "base_uri": "https://localhost:8080/",
          "height": 329
        },
        "outputId": "8a1b207d-75ff-4895-cdd3-9d99b8d6a06e"
      },
      "source": [
        "yield_curve = fi.curve_factory(dates = tenors, rates = spot_rates, method=\"pwlinear\")\n",
        "yield_curve.plot_yields()\n",
        "# The rates returned by both the get_rates and get_yield methods are continuously compounded.\n",
        "print(\"rates:%s\"%yield_curve.get_rates())\n",
        "print(\"tenors:%s\"%yield_curve.get_tenors())"
      ],
      "execution_count": 21,
      "outputs": [
        {
          "output_type": "display_data",
          "data": {
            "image/png": "[encoded data removed]",
            "text/plain": [
              "<Figure size 432x288 with 1 Axes>"
            ]
          },
          "metadata": {
            "tags": []
          }
        },
        {
          "output_type": "stream",
          "text": [
            "rates:[0.8, 0.95, 1.16, 1.4, 1.6500000000000001, 2.1, 2.6, 3.0]\n",
            "tenors:[0.25, 0.5, 1.0, 1.5, 2.0, 3.0, 4.0, 5.0]\n"
          ],
          "name": "stdout"
        }
      ]
    },
    {
      "cell_type": "code",
      "metadata": {
        "id": "AEYyNHQVmSeX",
        "colab_type": "code",
        "colab": {
          "base_uri": "https://localhost:8080/",
          "height": 34
        },
        "outputId": "1b498f93-e6ca-4793-a7da-1df366a09389"
      },
      "source": [
        "time=0.35#time has to be a float number of a year-> 0.5 means 6Months\n",
        "yield_curve.get_yield(time)#The rates returned by both the get_rates and get_yield methods are continuously compounded."
      ],
      "execution_count": 22,
      "outputs": [
        {
          "output_type": "execute_result",
          "data": {
            "text/plain": [
              "0.86"
            ]
          },
          "metadata": {
            "tags": []
          },
          "execution_count": 22
        }
      ]
    },
    {
      "cell_type": "code",
      "metadata": {
        "id": "pgNJ_cgOm1eC",
        "colab_type": "code",
        "colab": {
          "base_uri": "https://localhost:8080/",
          "height": 34
        },
        "outputId": "c53f2742-9493-4bfd-f8bf-e4146d203396"
      },
      "source": [
        "# The yield curve object can also return spot rates with arbitrary compounding \n",
        "# convention using the spot_rate method\n",
        "compounding=2\n",
        "time=0.5\n",
        "# The rates returned by both the get_rates and get_yield methods are continuously compounded.\n",
        "yield_curve.spot_rate(time,compounding=compounding)"
      ],
      "execution_count": 23,
      "outputs": [
        {
          "output_type": "execute_result",
          "data": {
            "text/plain": [
              "0.9522598266420879"
            ]
          },
          "metadata": {
            "tags": []
          },
          "execution_count": 23
        }
      ]
    },
    {
      "cell_type": "code",
      "metadata": {
        "id": "0wjOWNFjnL9S",
        "colab_type": "code",
        "colab": {
          "base_uri": "https://localhost:8080/",
          "height": 34
        },
        "outputId": "8f1b8426-d98e-4c67-ea76-9512df8b1fdf"
      },
      "source": [
        "yield_curve.discount_factor(time)"
      ],
      "execution_count": 24,
      "outputs": [
        {
          "output_type": "execute_result",
          "data": {
            "text/plain": [
              "0.9952612634092118"
            ]
          },
          "metadata": {
            "tags": []
          },
          "execution_count": 24
        }
      ]
    },
    {
      "cell_type": "code",
      "metadata": {
        "id": "IaZYnE_a57jO",
        "colab_type": "code",
        "colab": {}
      },
      "source": [
        "#  to return the semiannually compounded spot interest rate corresponding to a 5 year loan term, make the call\n",
        "interest_rate = yield_curve.spot_rate(5.0, compounding=2)\n",
        "#  return a simply compounded rate, the call is\n",
        "interest_rate = yield_curve.spot_rate(5.0, compounding=0)"
      ],
      "execution_count": 0,
      "outputs": []
    },
    {
      "cell_type": "code",
      "metadata": {
        "id": "vAwm2J7X6ICU",
        "colab_type": "code",
        "colab": {
          "base_uri": "https://localhost:8080/",
          "height": 329
        },
        "outputId": "bae4e7d1-c977-44e6-f446-b15a6793256f"
      },
      "source": [
        "# curve class includes a utility function for carrying out a parallel shift of the curve\n",
        "# shift in percentage terms, the internally stored continuously compounded rates will be shifted by the given amount\n",
        "yield_curve2 = yield_curve.shift(1.0)\n",
        "yield_curve2.plot_yields()\n",
        "# The rates returned by both the get_rates and get_yield methods are continuously compounded.\n",
        "print(\"rates:%s\"%yield_curve2.get_rates())#all the rates have been increased by 1 percentage point\n",
        "print(\"tenors:%s\"%yield_curve2.get_tenors())"
      ],
      "execution_count": 26,
      "outputs": [
        {
          "output_type": "display_data",
          "data": {
            "image/png": "[encoded data removed]",
            "text/plain": [
              "<Figure size 432x288 with 1 Axes>"
            ]
          },
          "metadata": {
            "tags": []
          }
        },
        {
          "output_type": "stream",
          "text": [
            "rates:[1.8000000000000003, 1.95, 2.16, 2.4, 2.6500000000000004, 3.1, 3.6000000000000005, 4.0]\n",
            "tenors:[0.25, 0.5, 1.0, 1.5, 2.0, 3.0, 4.0, 5.0]\n"
          ],
          "name": "stdout"
        }
      ]
    },
    {
      "cell_type": "code",
      "metadata": {
        "id": "EE-ynp259Qst",
        "colab_type": "code",
        "colab": {
          "base_uri": "https://localhost:8080/",
          "height": 329
        },
        "outputId": "fff3db6a-5f66-44c1-d818-6578b029acf5"
      },
      "source": [
        "#yield curve function , one value\n",
        "yc = fi.curve_factory(dates = [10.0], rates = [5.0], method=\"pwlinear\")\n",
        "\n",
        "yc.plot_yields()\n",
        "# The rates returned by both the get_rates and get_yield methods are continuously compounded.\n",
        "print(\"rates:%s\"%yc.get_rates())#all the rates have been increased by 1 percentage point\n",
        "print(\"tenors:%s\"%yc.get_tenors())"
      ],
      "execution_count": 27,
      "outputs": [
        {
          "output_type": "display_data",
          "data": {
            "image/png": "[encoded data removed]",
            "text/plain": [
              "<Figure size 432x288 with 1 Axes>"
            ]
          },
          "metadata": {
            "tags": []
          }
        },
        {
          "output_type": "stream",
          "text": [
            "rates:[5.0]\n",
            "tenors:[10.0]\n"
          ],
          "name": "stdout"
        }
      ]
    },
    {
      "cell_type": "code",
      "metadata": {
        "id": "qjO1H7ho9tEf",
        "colab_type": "code",
        "colab": {
          "base_uri": "https://localhost:8080/",
          "height": 295
        },
        "outputId": "7a0ec0e2-a270-4d41-baba-75a81cb4abb4"
      },
      "source": [
        "yc.plot_discount_factors()"
      ],
      "execution_count": 28,
      "outputs": [
        {
          "output_type": "display_data",
          "data": {
            "image/png": "[encoded data removed]",
            "text/plain": [
              "<Figure size 432x288 with 1 Axes>"
            ]
          },
          "metadata": {
            "tags": []
          }
        }
      ]
    },
    {
      "cell_type": "code",
      "metadata": {
        "id": "s2CUTGpWMrcR",
        "colab_type": "code",
        "colab": {
          "base_uri": "https://localhost:8080/",
          "height": 34
        },
        "outputId": "0b139add-d024-4941-b61c-01b44fb940ec"
      },
      "source": [
        "bond5 = fi.create_coupon_bond(maturity = 5, face = 10000, rate = 5, frequency = 2)\n",
        "# Is this result what you expect? \n",
        "bond5.price(yc)\n",
        "\n",
        "# the compounding convention implicit in our construction of a yield curve is continous compounding"
      ],
      "execution_count": 30,
      "outputs": [
        {
          "output_type": "execute_result",
          "data": {
            "text/plain": [
              "9972.465304609344"
            ]
          },
          "metadata": {
            "tags": []
          },
          "execution_count": 30
        }
      ]
    },
    {
      "cell_type": "code",
      "metadata": {
        "id": "Mr4kg3JbM_k0",
        "colab_type": "code",
        "colab": {
          "base_uri": "https://localhost:8080/",
          "height": 34
        },
        "outputId": "2fea0175-6e5a-4a01-ad7f-9f5ffc68ecdb"
      },
      "source": [
        "bond6 = fi.create_coupon_bond(maturity = 5, face = 10000, rate = 5, frequency = 1)\n",
        "# Is this result what you expect? \n",
        "bond6.price(yc)\n",
        "\n",
        "# the compounding convention implicit in our construction of a yield curve is continous compounding"
      ],
      "execution_count": 32,
      "outputs": [
        {
          "output_type": "execute_result",
          "data": {
            "text/plain": [
              "9945.161008269608"
            ]
          },
          "metadata": {
            "tags": []
          },
          "execution_count": 32
        }
      ]
    }
  ]
}