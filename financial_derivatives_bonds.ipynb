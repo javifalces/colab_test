{
  "nbformat": 4,
  "nbformat_minor": 0,
  "metadata": {
    "colab": {
      "name": "financial-derivatives-bonds.ipynb",
      "provenance": [],
      "collapsed_sections": [],
      "toc_visible": true,
      "authorship_tag": "ABX9TyNwgHA5qyPEshhQ1R8aig5U",
      "include_colab_link": true
    },
    "kernelspec": {
      "name": "python3",
      "display_name": "Python 3"
    }
  },
  "cells": [
    {
      "cell_type": "markdown",
      "metadata": {
        "id": "view-in-github",
        "colab_type": "text"
      },
      "source": [
        "<a href=\"https://colab.research.google.com/github/tradeasystems/colab_test/blob/master/financial_derivatives_bonds.ipynb\" target=\"_parent\"><img src=\"https://colab.research.google.com/assets/colab-badge.svg\" alt=\"Open In Colab\"/></a>"
      ]
    },
    {
      "cell_type": "markdown",
      "metadata": {
        "id": "lOzWam8idBu9",
        "colab_type": "text"
      },
      "source": [
        "# Fixed Income module\n",
        "\n",
        "https://www.udemy.com/course/financial-derivatives/learn/lecture/15082442#overview\n"
      ]
    },
    {
      "cell_type": "code",
      "metadata": {
        "id": "Kg9KTevoeSDF",
        "colab_type": "code",
        "colab": {}
      },
      "source": [
        "# must upload fixedincome.py from udemy course "
      ],
      "execution_count": 0,
      "outputs": []
    },
    {
      "cell_type": "code",
      "metadata": {
        "id": "VlIYPcjScg83",
        "colab_type": "code",
        "colab": {}
      },
      "source": [
        "import fixedincome as fi"
      ],
      "execution_count": 0,
      "outputs": []
    },
    {
      "cell_type": "markdown",
      "metadata": {
        "id": "zzUFg0--dHWB",
        "colab_type": "text"
      },
      "source": [
        "#### Bond Example\n"
      ]
    },
    {
      "cell_type": "code",
      "metadata": {
        "id": "st_A09awdJb9",
        "colab_type": "code",
        "colab": {
          "base_uri": "https://localhost:8080/",
          "height": 34
        },
        "outputId": "2b982649-581b-4e19-8bfd-37b0098b71a5"
      },
      "source": [
        "#The payment dates must all be floating point numbers,\n",
        "#bond factory\n",
        "'''\n",
        "bond making payments in 6 months, 1 year, and 18 months of $5, $5, and $105\n",
        "'''\n",
        "bond = fi.bond_factory(dates = [0.5, 1.0, 1.5], rates = [5, 5, 105])\n",
        "bond"
      ],
      "execution_count": 4,
      "outputs": [
        {
          "output_type": "execute_result",
          "data": {
            "text/plain": [
              "<fixedincome.relative_bond at 0x7f91796b7f60>"
            ]
          },
          "metadata": {
            "tags": []
          },
          "execution_count": 4
        }
      ]
    },
    {
      "cell_type": "code",
      "metadata": {
        "id": "TUcGTgl2dkji",
        "colab_type": "code",
        "colab": {}
      },
      "source": [
        "#Coupon bond\n",
        "'''\n",
        "This creates a bond object for a 5 year bond with a $1000 face value paying a 6%\n",
        "coupon rate with semiannual payments.\n",
        "'''\n",
        "coupon_bond = fi.create_coupon_bond(maturity = 5, face = 1000, rate = 6, frequency = 2)"
      ],
      "execution_count": 0,
      "outputs": []
    },
    {
      "cell_type": "code",
      "metadata": {
        "id": "0p3SpfADd6l8",
        "colab_type": "code",
        "colab": {
          "base_uri": "https://localhost:8080/",
          "height": 34
        },
        "outputId": "4f67af14-120c-4467-dc06-1ff88fb62a2f"
      },
      "source": [
        "coupon_bond.get_dates()"
      ],
      "execution_count": 8,
      "outputs": [
        {
          "output_type": "execute_result",
          "data": {
            "text/plain": [
              "[0.5, 1.0, 1.5, 2.0, 2.5, 3.0, 3.5, 4.0, 4.5, 5.0]"
            ]
          },
          "metadata": {
            "tags": []
          },
          "execution_count": 8
        }
      ]
    },
    {
      "cell_type": "code",
      "metadata": {
        "id": "ss8Nv-Eld-G3",
        "colab_type": "code",
        "colab": {
          "base_uri": "https://localhost:8080/",
          "height": 34
        },
        "outputId": "6dcceff8-7889-442f-9f93-613ab9c736c1"
      },
      "source": [
        "coupon_bond.get_coupons()"
      ],
      "execution_count": 9,
      "outputs": [
        {
          "output_type": "execute_result",
          "data": {
            "text/plain": [
              "[30.0, 30.0, 30.0, 30.0, 30.0, 30.0, 30.0, 30.0, 30.0, 1030.0]"
            ]
          },
          "metadata": {
            "tags": []
          },
          "execution_count": 9
        }
      ]
    },
    {
      "cell_type": "code",
      "metadata": {
        "id": "jJWm3gMOe-Bt",
        "colab_type": "code",
        "colab": {
          "base_uri": "https://localhost:8080/",
          "height": 34
        },
        "outputId": "570462cf-b90c-44a4-a71b-2d836dde82cc"
      },
      "source": [
        "coupon_bond.get_price()"
      ],
      "execution_count": 12,
      "outputs": [
        {
          "output_type": "stream",
          "text": [
            "No price available\n"
          ],
          "name": "stdout"
        }
      ]
    },
    {
      "cell_type": "code",
      "metadata": {
        "id": "3-7XVLGOfHPF",
        "colab_type": "code",
        "colab": {
          "base_uri": "https://localhost:8080/",
          "height": 34
        },
        "outputId": "4cc66f84-db72-49be-9a93-116e4869338c"
      },
      "source": [
        "coupon_bond.set_price(75)\n",
        "coupon_bond.get_price()"
      ],
      "execution_count": 20,
      "outputs": [
        {
          "output_type": "execute_result",
          "data": {
            "text/plain": [
              "75"
            ]
          },
          "metadata": {
            "tags": []
          },
          "execution_count": 20
        }
      ]
    },
    {
      "cell_type": "code",
      "metadata": {
        "id": "cfj98oJwfO-f",
        "colab_type": "code",
        "colab": {
          "base_uri": "https://localhost:8080/",
          "height": 34
        },
        "outputId": "19d56789-d094-4c97-c32d-eaef5a58b488"
      },
      "source": [
        "coupon_bond.YTM()#1-100\n",
        "\n"
      ],
      "execution_count": 21,
      "outputs": [
        {
          "output_type": "execute_result",
          "data": {
            "text/plain": [
              "101.16673444556777"
            ]
          },
          "metadata": {
            "tags": []
          },
          "execution_count": 21
        }
      ]
    },
    {
      "cell_type": "code",
      "metadata": {
        "id": "8DGDw9q2flpa",
        "colab_type": "code",
        "colab": {
          "base_uri": "https://localhost:8080/",
          "height": 295
        },
        "outputId": "e3722832-85dc-4147-8d95-c63116913269"
      },
      "source": [
        "coupon_bond.plot_payments()"
      ],
      "execution_count": 23,
      "outputs": [
        {
          "output_type": "display_data",
          "data": {
            "image/png": "[encoded data removed]",
            "text/plain": [
              "<Figure size 432x288 with 1 Axes>"
            ]
          },
          "metadata": {
            "tags": []
          }
        }
      ]
    },
    {
      "cell_type": "markdown",
      "metadata": {
        "id": "mljEB6R3fuUm",
        "colab_type": "text"
      },
      "source": [
        "## 1: Try creating a bond object for a particular coupon bond.  For example, for a 3 year bond with a $10,000 face value paying a 7% coupon with semiannual payments\n"
      ]
    },
    {
      "cell_type": "code",
      "metadata": {
        "id": "vP6OG49jf2rI",
        "colab_type": "code",
        "colab": {
          "base_uri": "https://localhost:8080/",
          "height": 329
        },
        "outputId": "cf0d8d24-8107-41ef-8b90-a7dc32e8b5af"
      },
      "source": [
        "bond = fi.create_coupon_bond(maturity = 3, face = 10000, rate = 7, frequency = 2)\n",
        "#check it\n",
        "print(bond.get_dates())\n",
        "print(bond.get_coupons())\n",
        "bond.plot_payments()"
      ],
      "execution_count": 26,
      "outputs": [
        {
          "output_type": "stream",
          "text": [
            "[0.5, 1.0, 1.5, 2.0, 2.5, 3.0]\n",
            "[350.00000000000006, 350.00000000000006, 350.00000000000006, 350.00000000000006, 350.00000000000006, 10350.0]\n"
          ],
          "name": "stdout"
        },
        {
          "output_type": "display_data",
          "data": {
            "image/png": "[encoded data removed]",
            "text/plain": [
              "<Figure size 432x288 with 1 Axes>"
            ]
          },
          "metadata": {
            "tags": []
          }
        }
      ]
    },
    {
      "cell_type": "markdown",
      "metadata": {
        "id": "7UVcSTKVgU8f",
        "colab_type": "text"
      },
      "source": [
        "## 2: The bond functionality in this module provides a laboratory for exploring the relationship between the prices and yields of bonds.  You can just create some coupon bonds and then compute the yield to maturity for different prices.  To get started, let's make a 10 year bond with a 9% coupon:\n"
      ]
    },
    {
      "cell_type": "code",
      "metadata": {
        "id": "Q5ecANHwgYEy",
        "colab_type": "code",
        "colab": {
          "base_uri": "https://localhost:8080/",
          "height": 51
        },
        "outputId": "010b4275-af08-4464-9bcd-fdc33126713e"
      },
      "source": [
        "bond_1 = fi.create_coupon_bond(maturity = 10, face = 10000, rate = 9, frequency = 2)\n",
        "#check it\n",
        "print(bond.get_dates())\n",
        "print(bond.get_coupons())"
      ],
      "execution_count": 29,
      "outputs": [
        {
          "output_type": "stream",
          "text": [
            "[0.5, 1.0, 1.5, 2.0, 2.5, 3.0, 3.5, 4.0, 4.5, 5.0, 5.5, 6.0, 6.5, 7.0, 7.5, 8.0, 8.5, 9.0, 9.5, 10.0]\n",
            "[250.0, 250.0, 250.0, 250.0, 250.0, 250.0, 250.0, 250.0, 250.0, 250.0, 250.0, 250.0, 250.0, 250.0, 250.0, 250.0, 250.0, 250.0, 250.0, 10250.0]\n"
          ],
          "name": "stdout"
        }
      ]
    },
    {
      "cell_type": "code",
      "metadata": {
        "id": "D8NXkDINgpi2",
        "colab_type": "code",
        "colab": {
          "base_uri": "https://localhost:8080/",
          "height": 34
        },
        "outputId": "a000c61f-8a04-4ba0-f132-d63ace1a351d"
      },
      "source": [
        "bond_1.YTM(10000)"
      ],
      "execution_count": 32,
      "outputs": [
        {
          "output_type": "execute_result",
          "data": {
            "text/plain": [
              "8.999999999999956"
            ]
          },
          "metadata": {
            "tags": []
          },
          "execution_count": 32
        }
      ]
    },
    {
      "cell_type": "markdown",
      "metadata": {
        "id": "2-Okq1ESg458",
        "colab_type": "text"
      },
      "source": [
        "### Study relationship price - yield"
      ]
    },
    {
      "cell_type": "code",
      "metadata": {
        "id": "aiz5ZVW8g8pj",
        "colab_type": "code",
        "colab": {}
      },
      "source": [
        "prices = [ i for i in range(8000,13000,500)]\n",
        "yields = [bond_1.YTM(price) for price in prices]"
      ],
      "execution_count": 0,
      "outputs": []
    },
    {
      "cell_type": "code",
      "metadata": {
        "id": "tXRF2VOQhWfS",
        "colab_type": "code",
        "colab": {
          "base_uri": "https://localhost:8080/",
          "height": 204
        },
        "outputId": "d7b6f4da-8f41-4a89-9b82-adf6ca3b4b6d"
      },
      "source": [
        "import pandas as pd\n",
        "df = pd.DataFrame(columns=['price','yield'])\n",
        "df['price']=prices\n",
        "df['yield'] = yields\n",
        "df.head()"
      ],
      "execution_count": 44,
      "outputs": [
        {
          "output_type": "execute_result",
          "data": {
            "text/html": [
              "<div>\n",
              "<style scoped>\n",
              "    .dataframe tbody tr th:only-of-type {\n",
              "        vertical-align: middle;\n",
              "    }\n",
              "\n",
              "    .dataframe tbody tr th {\n",
              "        vertical-align: top;\n",
              "    }\n",
              "\n",
              "    .dataframe thead th {\n",
              "        text-align: right;\n",
              "    }\n",
              "</style>\n",
              "<table border=\"1\" class=\"dataframe\">\n",
              "  <thead>\n",
              "    <tr style=\"text-align: right;\">\n",
              "      <th></th>\n",
              "      <th>price</th>\n",
              "      <th>yield</th>\n",
              "    </tr>\n",
              "  </thead>\n",
              "  <tbody>\n",
              "    <tr>\n",
              "      <th>0</th>\n",
              "      <td>8000</td>\n",
              "      <td>12.568248</td>\n",
              "    </tr>\n",
              "    <tr>\n",
              "      <th>1</th>\n",
              "      <td>8500</td>\n",
              "      <td>11.570079</td>\n",
              "    </tr>\n",
              "    <tr>\n",
              "      <th>2</th>\n",
              "      <td>9000</td>\n",
              "      <td>10.649325</td>\n",
              "    </tr>\n",
              "    <tr>\n",
              "      <th>3</th>\n",
              "      <td>9500</td>\n",
              "      <td>9.795483</td>\n",
              "    </tr>\n",
              "    <tr>\n",
              "      <th>4</th>\n",
              "      <td>10000</td>\n",
              "      <td>9.000000</td>\n",
              "    </tr>\n",
              "  </tbody>\n",
              "</table>\n",
              "</div>"
            ],
            "text/plain": [
              "   price      yield\n",
              "0   8000  12.568248\n",
              "1   8500  11.570079\n",
              "2   9000  10.649325\n",
              "3   9500   9.795483\n",
              "4  10000   9.000000"
            ]
          },
          "metadata": {
            "tags": []
          },
          "execution_count": 44
        }
      ]
    },
    {
      "cell_type": "code",
      "metadata": {
        "id": "zJp8czsjhbsR",
        "colab_type": "code",
        "colab": {
          "base_uri": "https://localhost:8080/",
          "height": 312
        },
        "outputId": "a725913c-6b7e-45c5-e2ab-9973759feef9"
      },
      "source": [
        "import matplotlib.pyplot as plt\n",
        "\n",
        "df.plot.scatter(x='price',y='yield')\n",
        "plt.title('relationship price - yield')"
      ],
      "execution_count": 49,
      "outputs": [
        {
          "output_type": "execute_result",
          "data": {
            "text/plain": [
              "Text(0.5, 1.0, 'relationship price - yield')"
            ]
          },
          "metadata": {
            "tags": []
          },
          "execution_count": 49
        },
        {
          "output_type": "display_data",
          "data": {
            "image/png": "[encoded data removed]",
            "text/plain": [
              "<Figure size 432x288 with 1 Axes>"
            ]
          },
          "metadata": {
            "tags": []
          }
        }
      ]
    },
    {
      "cell_type": "code",
      "metadata": {
        "id": "MaBTDizbic5Y",
        "colab_type": "code",
        "colab": {
          "base_uri": "https://localhost:8080/",
          "height": 51
        },
        "outputId": "354060ce-c53b-47c2-a85a-d60913176584"
      },
      "source": [
        "#DV01\n",
        "# DV01 or Dollar Value of 1 basis point measures the interest rate risk of bond\n",
        "#  or portfolio of bonds by estimating the price change in dollar terms in\n",
        "#  response to change in yield by a single basis point\n",
        "# https://www.wallstreetmojo.com/dv01/\n",
        "\n",
        "#DV01 = -(delta yield)/[(delta price)*10000]\n",
        "price_1 = 100\n",
        "yield_1 = bond_1.YTM(price=price_1)\n",
        "price_2 = 80\n",
        "yield_2 = bond_1.YTM(price=price_2)\n",
        "\n",
        "dv01 = -(yield_2-yield_1)/((price_2-price_1)*10000)\n",
        "print('A movement of 1bps(0.01 pct) up in the yield will move down the price %.4f points'%dv01)\n",
        "print('A movement of 1 figure(1 pct) up in the yield will move down the price %.4f points'%(dv01*1000))"
      ],
      "execution_count": 58,
      "outputs": [
        {
          "output_type": "stream",
          "text": [
            "A movement of 1bps(0.01 pct) up in the yield will move down the price 0.0011 points\n",
            "A movement of 1 figure(1 pct) up in the yield will move down the price 1.1250 points\n"
          ],
          "name": "stdout"
        }
      ]
    }
  ]
}