{
  "nbformat": 4,
  "nbformat_minor": 0,
  "metadata": {
    "colab": {
      "name": "financial-derivatives-bonds.ipynb",
      "provenance": [],
      "toc_visible": true,
      "authorship_tag": "ABX9TyOx7Zad7oigOcAm49XObNky",
      "include_colab_link": true
    },
    "kernelspec": {
      "name": "python3",
      "display_name": "Python 3"
    }
  },
  "cells": [
    {
      "cell_type": "markdown",
      "metadata": {
        "id": "view-in-github",
        "colab_type": "text"
      },
      "source": [
        "<a href=\"https://colab.research.google.com/github/tradeasystems/colab_test/blob/master/financial_derivatives_bonds.ipynb\" target=\"_parent\"><img src=\"https://colab.research.google.com/assets/colab-badge.svg\" alt=\"Open In Colab\"/></a>"
      ]
    },
    {
      "cell_type": "markdown",
      "metadata": {
        "id": "lOzWam8idBu9",
        "colab_type": "text"
      },
      "source": [
        "# Fixed Income module\n"
      ]
    },
    {
      "cell_type": "code",
      "metadata": {
        "id": "VlIYPcjScg83",
        "colab_type": "code",
        "colab": {}
      },
      "source": [
        "import fixedincome as fi"
      ],
      "execution_count": 0,
      "outputs": []
    },
    {
      "cell_type": "markdown",
      "metadata": {
        "id": "zzUFg0--dHWB",
        "colab_type": "text"
      },
      "source": [
        "## Create a bond"
      ]
    },
    {
      "cell_type": "code",
      "metadata": {
        "id": "st_A09awdJb9",
        "colab_type": "code",
        "colab": {
          "base_uri": "https://localhost:8080/",
          "height": 34
        },
        "outputId": "2b982649-581b-4e19-8bfd-37b0098b71a5"
      },
      "source": [
        "#The payment dates must all be floating point numbers,\n",
        "#bond factory\n",
        "'''\n",
        "bond making payments in 6 months, 1 year, and 18 months of $5, $5, and $105\n",
        "'''\n",
        "bond = fi.bond_factory(dates = [0.5, 1.0, 1.5], rates = [5, 5, 105])\n",
        "bond"
      ],
      "execution_count": 4,
      "outputs": [
        {
          "output_type": "execute_result",
          "data": {
            "text/plain": [
              "<fixedincome.relative_bond at 0x7f91796b7f60>"
            ]
          },
          "metadata": {
            "tags": []
          },
          "execution_count": 4
        }
      ]
    },
    {
      "cell_type": "code",
      "metadata": {
        "id": "TUcGTgl2dkji",
        "colab_type": "code",
        "colab": {}
      },
      "source": [
        "#Coupon bond\n",
        "'''\n",
        "This creates a bond object for a 5 year bond with a $1000 face value paying a 6%\n",
        "coupon rate with semiannual payments.\n",
        "'''\n",
        "coupon_bond = fi.create_coupon_bond(maturity = 5, face = 1000, rate = 6, frequency = 2)"
      ],
      "execution_count": 0,
      "outputs": []
    },
    {
      "cell_type": "code",
      "metadata": {
        "id": "0p3SpfADd6l8",
        "colab_type": "code",
        "colab": {
          "base_uri": "https://localhost:8080/",
          "height": 34
        },
        "outputId": "4f67af14-120c-4467-dc06-1ff88fb62a2f"
      },
      "source": [
        "coupon_bond.get_dates()"
      ],
      "execution_count": 8,
      "outputs": [
        {
          "output_type": "execute_result",
          "data": {
            "text/plain": [
              "[0.5, 1.0, 1.5, 2.0, 2.5, 3.0, 3.5, 4.0, 4.5, 5.0]"
            ]
          },
          "metadata": {
            "tags": []
          },
          "execution_count": 8
        }
      ]
    },
    {
      "cell_type": "code",
      "metadata": {
        "id": "ss8Nv-Eld-G3",
        "colab_type": "code",
        "colab": {
          "base_uri": "https://localhost:8080/",
          "height": 34
        },
        "outputId": "6dcceff8-7889-442f-9f93-613ab9c736c1"
      },
      "source": [
        "coupon_bond.get_coupons()"
      ],
      "execution_count": 9,
      "outputs": [
        {
          "output_type": "execute_result",
          "data": {
            "text/plain": [
              "[30.0, 30.0, 30.0, 30.0, 30.0, 30.0, 30.0, 30.0, 30.0, 1030.0]"
            ]
          },
          "metadata": {
            "tags": []
          },
          "execution_count": 9
        }
      ]
    }
  ]
}