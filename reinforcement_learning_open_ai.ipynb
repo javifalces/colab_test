{
  "nbformat": 4,
  "nbformat_minor": 0,
  "metadata": {
    "colab": {
      "name": "reinforcement_learning_open_ai.ipynb",
      "version": "0.3.2",
      "provenance": [],
      "collapsed_sections": [],
      "include_colab_link": true
    },
    "kernelspec": {
      "name": "python3",
      "display_name": "Python 3"
    }
  },
  "cells": [
    {
      "cell_type": "markdown",
      "metadata": {
        "id": "view-in-github",
        "colab_type": "text"
      },
      "source": [
        "<a href=\"https://colab.research.google.com/github/tradeasystems/colab_test/blob/master/reinforcement_learning_open_ai.ipynb\" target=\"_parent\"><img src=\"https://colab.research.google.com/assets/colab-badge.svg\" alt=\"Open In Colab\"/></a>"
      ]
    },
    {
      "cell_type": "code",
      "metadata": {
        "id": "HNnuOxaRIgbh",
        "colab_type": "code",
        "outputId": "058b834c-5f7e-4427-99c7-1a4d6f84ad7c",
        "colab": {
          "base_uri": "https://localhost:8080/",
          "height": 561
        }
      },
      "source": [
        "!pip install gym\n",
        "!pip install h5py\n",
        "!pip install keras-rl"
      ],
      "execution_count": 0,
      "outputs": [
        {
          "output_type": "stream",
          "text": [
            "Requirement already satisfied: gym in /usr/local/lib/python3.6/dist-packages (0.10.11)\n",
            "Requirement already satisfied: scipy in /usr/local/lib/python3.6/dist-packages (from gym) (1.3.1)\n",
            "Requirement already satisfied: pyglet>=1.2.0 in /usr/local/lib/python3.6/dist-packages (from gym) (1.4.3)\n",
            "Requirement already satisfied: six in /usr/local/lib/python3.6/dist-packages (from gym) (1.12.0)\n",
            "Requirement already satisfied: requests>=2.0 in /usr/local/lib/python3.6/dist-packages (from gym) (2.21.0)\n",
            "Requirement already satisfied: numpy>=1.10.4 in /usr/local/lib/python3.6/dist-packages (from gym) (1.16.5)\n",
            "Requirement already satisfied: future in /usr/local/lib/python3.6/dist-packages (from pyglet>=1.2.0->gym) (0.16.0)\n",
            "Requirement already satisfied: chardet<3.1.0,>=3.0.2 in /usr/local/lib/python3.6/dist-packages (from requests>=2.0->gym) (3.0.4)\n",
            "Requirement already satisfied: urllib3<1.25,>=1.21.1 in /usr/local/lib/python3.6/dist-packages (from requests>=2.0->gym) (1.24.3)\n",
            "Requirement already satisfied: certifi>=2017.4.17 in /usr/local/lib/python3.6/dist-packages (from requests>=2.0->gym) (2019.6.16)\n",
            "Requirement already satisfied: idna<2.9,>=2.5 in /usr/local/lib/python3.6/dist-packages (from requests>=2.0->gym) (2.8)\n",
            "Requirement already satisfied: h5py in /usr/local/lib/python3.6/dist-packages (2.8.0)\n",
            "Requirement already satisfied: numpy>=1.7 in /usr/local/lib/python3.6/dist-packages (from h5py) (1.16.5)\n",
            "Requirement already satisfied: six in /usr/local/lib/python3.6/dist-packages (from h5py) (1.12.0)\n",
            "Collecting keras-rl\n",
            "\u001b[?25l  Downloading https://files.pythonhosted.org/packages/ab/87/4b57eff8e4bd834cea0a75cd6c58198c9e42be29b600db9c14fafa72ec07/keras-rl-0.4.2.tar.gz (40kB)\n",
            "\u001b[K     |████████████████████████████████| 40kB 3.1MB/s \n",
            "\u001b[?25hRequirement already satisfied: keras>=2.0.7 in /usr/local/lib/python3.6/dist-packages (from keras-rl) (2.2.5)\n",
            "Requirement already satisfied: keras-preprocessing>=1.1.0 in /usr/local/lib/python3.6/dist-packages (from keras>=2.0.7->keras-rl) (1.1.0)\n",
            "Requirement already satisfied: six>=1.9.0 in /usr/local/lib/python3.6/dist-packages (from keras>=2.0.7->keras-rl) (1.12.0)\n",
            "Requirement already satisfied: scipy>=0.14 in /usr/local/lib/python3.6/dist-packages (from keras>=2.0.7->keras-rl) (1.3.1)\n",
            "Requirement already satisfied: h5py in /usr/local/lib/python3.6/dist-packages (from keras>=2.0.7->keras-rl) (2.8.0)\n",
            "Requirement already satisfied: pyyaml in /usr/local/lib/python3.6/dist-packages (from keras>=2.0.7->keras-rl) (3.13)\n",
            "Requirement already satisfied: numpy>=1.9.1 in /usr/local/lib/python3.6/dist-packages (from keras>=2.0.7->keras-rl) (1.16.5)\n",
            "Requirement already satisfied: keras-applications>=1.0.8 in /usr/local/lib/python3.6/dist-packages (from keras>=2.0.7->keras-rl) (1.0.8)\n",
            "Building wheels for collected packages: keras-rl\n",
            "  Building wheel for keras-rl (setup.py) ... \u001b[?25l\u001b[?25hdone\n",
            "  Created wheel for keras-rl: filename=keras_rl-0.4.2-cp36-none-any.whl size=48379 sha256=ac9768ccb02683a54d5217886f2e0e65536f8f1decc7d74a3c6dc23e4cec9748\n",
            "  Stored in directory: /root/.cache/pip/wheels/7d/4d/84/9254c9f2e8f51865cb0dac8e79da85330c735551d31f73c894\n",
            "Successfully built keras-rl\n",
            "Installing collected packages: keras-rl\n",
            "Successfully installed keras-rl-0.4.2\n"
          ],
          "name": "stdout"
        }
      ]
    },
    {
      "cell_type": "markdown",
      "metadata": {
        "id": "xAmGnan2K0Ro",
        "colab_type": "text"
      },
      "source": [
        "# Car Pole\n",
        "\n"
      ]
    },
    {
      "cell_type": "code",
      "metadata": {
        "id": "jk1CBkttcQya",
        "colab_type": "code",
        "colab": {}
      },
      "source": [
        "import gym\n",
        "import gym\n",
        "from gym import spaces, envs\n",
        "import matplotlib.pyplot as plt\n",
        "import numpy as np\n",
        "import pandas as pd\n",
        "\n",
        "env = gym.make(\"CartPole-v1\")\n",
        "# env = gym.make(\"MountainCar-v0\")\n",
        "episodes=10000"
      ],
      "execution_count": 0,
      "outputs": []
    },
    {
      "cell_type": "code",
      "metadata": {
        "id": "GR2K8BPISG_N",
        "colab_type": "code",
        "outputId": "e3afb418-2568-4ff4-f29e-88379cf4f60c",
        "colab": {
          "base_uri": "https://localhost:8080/",
          "height": 34
        }
      },
      "source": [
        "env.action_space.n"
      ],
      "execution_count": 0,
      "outputs": [
        {
          "output_type": "execute_result",
          "data": {
            "text/plain": [
              "2"
            ]
          },
          "metadata": {
            "tags": []
          },
          "execution_count": 237
        }
      ]
    },
    {
      "cell_type": "markdown",
      "metadata": {
        "id": "MwaacfjePIIG",
        "colab_type": "text"
      },
      "source": [
        "## Random\n"
      ]
    },
    {
      "cell_type": "code",
      "metadata": {
        "id": "oxwgKP6iIHtF",
        "colab_type": "code",
        "colab": {}
      },
      "source": [
        "def RandomLearning(env, episodes):\n",
        "  reward_list = []\n",
        "  ave_reward_list = []\n",
        "  for i in range(episodes):\n",
        "    observation = env.reset()\n",
        "    done=False\n",
        "    rewards=[]\n",
        "    tot_reward, reward = 0,0\n",
        "    while done != True:\n",
        "      # todo UNCOMMENT\n",
        "      # env.render()\n",
        "      action = env.action_space.sample() # your agent here (this takes random actions)\n",
        "      observation, reward, done, info = env.step(action)\n",
        "      tot_reward += reward\n",
        "    # Track rewards\n",
        "    reward_list.append(tot_reward)\n",
        "    \n",
        "    if (i+1) % 100 == 0:\n",
        "        ave_reward = np.mean(reward_list)\n",
        "        ave_reward_list.append(ave_reward)\n",
        "        reward_list = []\n",
        "        \n",
        "    if (i+1) % 100 == 0:    \n",
        "        print('Episode {} Average Reward: {}'.format(i+1, ave_reward))\n",
        "  env.close()\n",
        "  return ave_reward_list"
      ],
      "execution_count": 0,
      "outputs": []
    },
    {
      "cell_type": "code",
      "metadata": {
        "id": "-V4lP7dNdrtX",
        "colab_type": "code",
        "outputId": "e6da6af6-4648-4a88-efd7-9b1df8e997bf",
        "colab": {
          "base_uri": "https://localhost:8080/",
          "height": 1000
        }
      },
      "source": [
        "rewards = RandomLearning(env,episodes=episodes)\n",
        "\n",
        "# Plot Rewards\n",
        "plt.plot(100*(np.arange(len(rewards)) + 1), rewards)\n",
        "plt.xlabel('Episodes')\n",
        "plt.ylabel('Average Reward')\n",
        "plt.title('Average Reward vs Episodes')\n",
        "# plt.savefig('rewards.jpg')     \n",
        "# plt.close()  "
      ],
      "execution_count": 0,
      "outputs": [
        {
          "output_type": "stream",
          "text": [
            "Episode 100 Average Reward: 22.19\n",
            "Episode 200 Average Reward: 22.74\n",
            "Episode 300 Average Reward: 21.87\n",
            "Episode 400 Average Reward: 19.67\n",
            "Episode 500 Average Reward: 20.32\n",
            "Episode 600 Average Reward: 22.49\n",
            "Episode 700 Average Reward: 22.42\n",
            "Episode 800 Average Reward: 20.29\n",
            "Episode 900 Average Reward: 20.21\n",
            "Episode 1000 Average Reward: 19.82\n",
            "Episode 1100 Average Reward: 21.36\n",
            "Episode 1200 Average Reward: 21.31\n",
            "Episode 1300 Average Reward: 21.34\n",
            "Episode 1400 Average Reward: 22.65\n",
            "Episode 1500 Average Reward: 22.66\n",
            "Episode 1600 Average Reward: 22.33\n",
            "Episode 1700 Average Reward: 22.75\n",
            "Episode 1800 Average Reward: 22.06\n",
            "Episode 1900 Average Reward: 23.23\n",
            "Episode 2000 Average Reward: 22.57\n",
            "Episode 2100 Average Reward: 23.82\n",
            "Episode 2200 Average Reward: 23.95\n",
            "Episode 2300 Average Reward: 22.65\n",
            "Episode 2400 Average Reward: 22.61\n",
            "Episode 2500 Average Reward: 22.94\n",
            "Episode 2600 Average Reward: 22.72\n",
            "Episode 2700 Average Reward: 21.15\n",
            "Episode 2800 Average Reward: 21.95\n",
            "Episode 2900 Average Reward: 24.33\n",
            "Episode 3000 Average Reward: 22.35\n",
            "Episode 3100 Average Reward: 20.31\n",
            "Episode 3200 Average Reward: 21.75\n",
            "Episode 3300 Average Reward: 21.85\n",
            "Episode 3400 Average Reward: 22.92\n",
            "Episode 3500 Average Reward: 21.71\n",
            "Episode 3600 Average Reward: 18.68\n",
            "Episode 3700 Average Reward: 23.75\n",
            "Episode 3800 Average Reward: 21.55\n",
            "Episode 3900 Average Reward: 23.89\n",
            "Episode 4000 Average Reward: 21.89\n",
            "Episode 4100 Average Reward: 22.61\n",
            "Episode 4200 Average Reward: 23.81\n",
            "Episode 4300 Average Reward: 20.61\n",
            "Episode 4400 Average Reward: 23.82\n",
            "Episode 4500 Average Reward: 21.5\n",
            "Episode 4600 Average Reward: 21.06\n",
            "Episode 4700 Average Reward: 21.94\n",
            "Episode 4800 Average Reward: 22.1\n",
            "Episode 4900 Average Reward: 22.64\n",
            "Episode 5000 Average Reward: 21.74\n",
            "Episode 5100 Average Reward: 22.98\n",
            "Episode 5200 Average Reward: 23.61\n",
            "Episode 5300 Average Reward: 22.48\n",
            "Episode 5400 Average Reward: 22.75\n",
            "Episode 5500 Average Reward: 22.55\n",
            "Episode 5600 Average Reward: 20.63\n",
            "Episode 5700 Average Reward: 21.77\n",
            "Episode 5800 Average Reward: 22.68\n",
            "Episode 5900 Average Reward: 22.61\n",
            "Episode 6000 Average Reward: 23.39\n",
            "Episode 6100 Average Reward: 22.44\n",
            "Episode 6200 Average Reward: 21.58\n",
            "Episode 6300 Average Reward: 23.44\n",
            "Episode 6400 Average Reward: 21.82\n",
            "Episode 6500 Average Reward: 22.55\n",
            "Episode 6600 Average Reward: 20.35\n",
            "Episode 6700 Average Reward: 22.78\n",
            "Episode 6800 Average Reward: 21.63\n",
            "Episode 6900 Average Reward: 22.64\n",
            "Episode 7000 Average Reward: 22.59\n",
            "Episode 7100 Average Reward: 22.36\n",
            "Episode 7200 Average Reward: 21.77\n",
            "Episode 7300 Average Reward: 22.59\n",
            "Episode 7400 Average Reward: 22.41\n",
            "Episode 7500 Average Reward: 21.94\n",
            "Episode 7600 Average Reward: 23.48\n",
            "Episode 7700 Average Reward: 20.31\n",
            "Episode 7800 Average Reward: 20.3\n",
            "Episode 7900 Average Reward: 23.92\n",
            "Episode 8000 Average Reward: 21.85\n",
            "Episode 8100 Average Reward: 22.65\n",
            "Episode 8200 Average Reward: 21.3\n",
            "Episode 8300 Average Reward: 20.77\n",
            "Episode 8400 Average Reward: 21.21\n",
            "Episode 8500 Average Reward: 22.34\n",
            "Episode 8600 Average Reward: 22.84\n",
            "Episode 8700 Average Reward: 24.06\n",
            "Episode 8800 Average Reward: 23.95\n",
            "Episode 8900 Average Reward: 22.94\n",
            "Episode 9000 Average Reward: 24.22\n",
            "Episode 9100 Average Reward: 21.57\n",
            "Episode 9200 Average Reward: 22.65\n",
            "Episode 9300 Average Reward: 21.12\n",
            "Episode 9400 Average Reward: 24.4\n",
            "Episode 9500 Average Reward: 20.12\n",
            "Episode 9600 Average Reward: 21.28\n",
            "Episode 9700 Average Reward: 24.2\n",
            "Episode 9800 Average Reward: 23.05\n",
            "Episode 9900 Average Reward: 21.92\n",
            "Episode 10000 Average Reward: 21.61\n"
          ],
          "name": "stdout"
        },
        {
          "output_type": "execute_result",
          "data": {
            "text/plain": [
              "Text(0.5, 1.0, 'Average Reward vs Episodes')"
            ]
          },
          "metadata": {
            "tags": []
          },
          "execution_count": 207
        },
        {
          "output_type": "display_data",
          "data": {
            "image/png": "[encoded data removed]",
            "text/plain": [
              "<Figure size 432x288 with 1 Axes>"
            ]
          },
          "metadata": {
            "tags": []
          }
        }
      ]
    },
    {
      "cell_type": "markdown",
      "metadata": {
        "id": "cRDxKkhoSMoa",
        "colab_type": "text"
      },
      "source": [
        "## Q Learn\n"
      ]
    },
    {
      "cell_type": "code",
      "metadata": {
        "id": "JytndQKBSOvp",
        "colab_type": "code",
        "colab": {}
      },
      "source": [
        "# Define Q-learning function\n",
        "def QLearning(env, learning, discount, epsilon, min_eps, episodes):\n",
        "\n",
        "    # Discretizing input space to make Q-table and to reduce dimmensionality\n",
        "    def discretize(obs):\n",
        "        upper_bounds = [env.observation_space.high[0], 0.5, env.observation_space.high[2], math.radians(50)]\n",
        "        lower_bounds = [env.observation_space.low[0], -0.5, env.observation_space.low[2], -math.radians(50)]\n",
        "        ratios = [(obs[i] + abs(lower_bounds[i])) / (upper_bounds[i] - lower_bounds[i]) for i in range(len(obs))]\n",
        "        new_obs = [int(round((self.buckets[i] - 1) * ratios[i])) for i in range(len(obs))]\n",
        "        new_obs = [min(self.buckets[i] - 1, max(0, new_obs[i])) for i in range(len(obs))]\n",
        "        return tuple(new_obs)\n",
        "\n",
        "        # Choosing action based on epsilon-greedy policy\n",
        "    def choose_action(self, state, epsilon):\n",
        "        return self.env.action_space.sample() if (np.random.random() <= epsilon) else np.argmax(self.Q[state])\n",
        "\n",
        "    # Updating Q-value of state-action pair based on the update equation\n",
        "    def update_q(self, state_old, action, reward, state_new, alpha):\n",
        "        self.Q[state_old][action] += alpha * (reward + self.gamma * np.max(self.Q[state_new]) - self.Q[state_old][action])\n",
        "\n",
        "    # Adaptive learning of Exploration Rate\n",
        "    def get_epsilon(self, t):-\n",
        "        return max(self.min_epsilon, min(1, 1.0 - math.log10((t + 1) / self.ada_divisor)))\n",
        "\n",
        "    # Adaptive learning of Learning Rate\n",
        "    def get_alpha(self, t):\n",
        "        return max(self.min_alpha, min(1.0, 1.0 - math.log10((t + 1) / self.ada_divisor)))\n",
        "\n",
        "    shape_array = [100,100,10,10]#[10,100]\n",
        "    print(\"Shape array = \"+str(shape_array))\n",
        "    # Determine size of discretized state space\n",
        "    num_states = (env.observation_space.high - env.observation_space.low)*\\\n",
        "                    np.array(shape_array)\n",
        "    num_states = np.round(num_states, 0).astype(int) + 1\n",
        "    \n",
        "    # Initialize Q table\n",
        "    Q = np.random.uniform(low = 0, high = 1, \n",
        "                          size = (num_states[0], num_states[1], num_states[2],num_states[3],\n",
        "                                  env.action_space.n))\n",
        "    \n",
        "    # Initialize variables to track rewards\n",
        "    reward_list = []\n",
        "    ave_reward_list = []\n",
        "    \n",
        "    # Calculate episodic reduction in epsilon\n",
        "    reduction = (epsilon - min_eps)/episodes\n",
        "    \n",
        "    # Run Q learning algorithm\n",
        "    for i in range(episodes):\n",
        "        # Initialize parameters\n",
        "        done = False\n",
        "        tot_reward, reward = 0,0\n",
        "        state = env.reset()\n",
        "        \n",
        "        # Discretize state\n",
        "       \n",
        "        state_adj = (state - env.observation_space.low)*np.array(shape_array)\n",
        "        state_adj = np.round(state_adj, 0).astype(int)\n",
        "    \n",
        "        while done != True:   \n",
        "            # Render environment for last five episodes\n",
        "            # todo UNCOMMENT\n",
        "            # if i >= (episodes - 20):\n",
        "            #     env.render()\n",
        "                \n",
        "            # Determine next action - epsilon greedy strategy\n",
        "            if np.random.random() < 1 - epsilon:\n",
        "                action = np.argmax(Q[state_adj[0], state_adj[1]]) \n",
        "            else:\n",
        "                action = np.random.randint(0, env.action_space.n)\n",
        "                \n",
        "            # Get next state and reward\n",
        "            state2, reward, done, info = env.step(action) \n",
        "            \n",
        "            # Discretize state2\n",
        "            state2_adj = (state2 - env.observation_space.low)*np.array(shape_array)\n",
        "            state2_adj = np.round(state2_adj, 0).astype(int)\n",
        "            \n",
        "            #Allow for terminal states\n",
        "            if done and state2[0] >= 0.5:\n",
        "                Q[state_adj[0], state_adj[1], action] = reward\n",
        "                \n",
        "            # Adjust Q value for current state\n",
        "            else:\n",
        "                delta = learning*(reward + \n",
        "                                 discount*np.max(Q[state2_adj[0], \n",
        "                                                   state2_adj[1]]) - \n",
        "                                 Q[state_adj[0], state_adj[1],action])\n",
        "                Q[state_adj[0], state_adj[1],action] += delta\n",
        "                                     \n",
        "            # Update variables\n",
        "            tot_reward += reward\n",
        "            state_adj = state2_adj\n",
        "        \n",
        "        # Decay epsilon\n",
        "        if epsilon > min_eps:\n",
        "            epsilon -= reduction\n",
        "        \n",
        "        # Track rewards\n",
        "        reward_list.append(tot_reward)\n",
        "        \n",
        "        if (i+1) % 100 == 0:\n",
        "            ave_reward = np.mean(reward_list)\n",
        "            ave_reward_list.append(ave_reward)\n",
        "            reward_list = []\n",
        "            \n",
        "        if (i+1) % 100 == 0:    \n",
        "            print('Episode {} Average Reward: {}'.format(i+1, ave_reward))\n",
        "            \n",
        "    env.close()\n",
        "    \n",
        "    return ave_reward_list\n",
        "\n",
        "    "
      ],
      "execution_count": 0,
      "outputs": []
    },
    {
      "cell_type": "code",
      "metadata": {
        "id": "ri9pXfCRR_Zz",
        "colab_type": "code",
        "outputId": "10da0408-e378-4e01-b448-411d0f7c8199",
        "colab": {
          "base_uri": "https://localhost:8080/",
          "height": 469
        }
      },
      "source": [
        "# Run Q-learning algorithm\n",
        "rewards = QLearning(env, 0.2, 0.9, 0.8, 0, episodes=episodes)\n",
        "\n",
        "# Plot Rewards\n",
        "plt.plot(100*(np.arange(len(rewards)) + 1), rewards)\n",
        "plt.xlabel('Episodes')\n",
        "plt.ylabel('Average Reward')\n",
        "plt.title('Average Reward vs Episodes')\n",
        "# plt.savefig('rewards.jpg')     \n",
        "# plt.close()  "
      ],
      "execution_count": 0,
      "outputs": [
        {
          "output_type": "stream",
          "text": [
            "Shape array = [100, 100, 10, 10]\n"
          ],
          "name": "stdout"
        },
        {
          "output_type": "stream",
          "text": [
            "/usr/local/lib/python3.6/dist-packages/ipykernel_launcher.py:5: RuntimeWarning: overflow encountered in subtract\n",
            "  \"\"\"\n"
          ],
          "name": "stderr"
        },
        {
          "output_type": "error",
          "ename": "ValueError",
          "evalue": "ignored",
          "traceback": [
            "\u001b[0;31m---------------------------------------------------------------------------\u001b[0m",
            "\u001b[0;31mValueError\u001b[0m                                Traceback (most recent call last)",
            "\u001b[0;32m<ipython-input-236-f1a58f996fdb>\u001b[0m in \u001b[0;36m<module>\u001b[0;34m()\u001b[0m\n\u001b[0;32m----> 1\u001b[0;31m \u001b[0mrewards\u001b[0m \u001b[0;34m=\u001b[0m \u001b[0mQLearning\u001b[0m\u001b[0;34m(\u001b[0m\u001b[0menv\u001b[0m\u001b[0;34m,\u001b[0m \u001b[0;36m0.2\u001b[0m\u001b[0;34m,\u001b[0m \u001b[0;36m0.9\u001b[0m\u001b[0;34m,\u001b[0m \u001b[0;36m0.8\u001b[0m\u001b[0;34m,\u001b[0m \u001b[0;36m0\u001b[0m\u001b[0;34m,\u001b[0m \u001b[0mepisodes\u001b[0m\u001b[0;34m=\u001b[0m\u001b[0mepisodes\u001b[0m\u001b[0;34m)\u001b[0m\u001b[0;34m\u001b[0m\u001b[0;34m\u001b[0m\u001b[0m\n\u001b[0m\u001b[1;32m      2\u001b[0m \u001b[0;34m\u001b[0m\u001b[0m\n\u001b[1;32m      3\u001b[0m \u001b[0;31m# Plot Rewards\u001b[0m\u001b[0;34m\u001b[0m\u001b[0;34m\u001b[0m\u001b[0;34m\u001b[0m\u001b[0m\n\u001b[1;32m      4\u001b[0m \u001b[0mplt\u001b[0m\u001b[0;34m.\u001b[0m\u001b[0mplot\u001b[0m\u001b[0;34m(\u001b[0m\u001b[0;36m100\u001b[0m\u001b[0;34m*\u001b[0m\u001b[0;34m(\u001b[0m\u001b[0mnp\u001b[0m\u001b[0;34m.\u001b[0m\u001b[0marange\u001b[0m\u001b[0;34m(\u001b[0m\u001b[0mlen\u001b[0m\u001b[0;34m(\u001b[0m\u001b[0mrewards\u001b[0m\u001b[0;34m)\u001b[0m\u001b[0;34m)\u001b[0m \u001b[0;34m+\u001b[0m \u001b[0;36m1\u001b[0m\u001b[0;34m)\u001b[0m\u001b[0;34m,\u001b[0m \u001b[0mrewards\u001b[0m\u001b[0;34m)\u001b[0m\u001b[0;34m\u001b[0m\u001b[0;34m\u001b[0m\u001b[0m\n\u001b[1;32m      5\u001b[0m \u001b[0mplt\u001b[0m\u001b[0;34m.\u001b[0m\u001b[0mxlabel\u001b[0m\u001b[0;34m(\u001b[0m\u001b[0;34m'Episodes'\u001b[0m\u001b[0;34m)\u001b[0m\u001b[0;34m\u001b[0m\u001b[0;34m\u001b[0m\u001b[0m\n",
            "\u001b[0;32m<ipython-input-235-5ff8cb48e3d7>\u001b[0m in \u001b[0;36mQLearning\u001b[0;34m(env, learning, discount, epsilon, min_eps, episodes)\u001b[0m\n\u001b[1;32m      9\u001b[0m     Q = np.random.uniform(low = 0, high = 1, \n\u001b[1;32m     10\u001b[0m                           size = (num_states[0], num_states[1], num_states[2],num_states[3],\n\u001b[0;32m---> 11\u001b[0;31m                                   env.action_space.n))\n\u001b[0m\u001b[1;32m     12\u001b[0m \u001b[0;34m\u001b[0m\u001b[0m\n\u001b[1;32m     13\u001b[0m     \u001b[0;31m# Initialize variables to track rewards\u001b[0m\u001b[0;34m\u001b[0m\u001b[0;34m\u001b[0m\u001b[0;34m\u001b[0m\u001b[0m\n",
            "\u001b[0;32mmtrand.pyx\u001b[0m in \u001b[0;36mmtrand.RandomState.uniform\u001b[0;34m()\u001b[0m\n",
            "\u001b[0;32mmtrand.pyx\u001b[0m in \u001b[0;36mmtrand.cont2_array_sc\u001b[0;34m()\u001b[0m\n",
            "\u001b[0;31mValueError\u001b[0m: negative dimensions are not allowed"
          ]
        }
      ]
    },
    {
      "cell_type": "markdown",
      "metadata": {
        "id": "Wytx79EUPpXU",
        "colab_type": "text"
      },
      "source": [
        "## Deep RL"
      ]
    },
    {
      "cell_type": "code",
      "metadata": {
        "id": "_ylxRLOrlrh7",
        "colab_type": "code",
        "colab": {}
      },
      "source": [
        ""
      ],
      "execution_count": 0,
      "outputs": []
    },
    {
      "cell_type": "code",
      "metadata": {
        "id": "HCWtmGP4JKhF",
        "colab_type": "code",
        "colab": {}
      },
      "source": [
        "\n",
        "from keras.models import Sequential\n",
        "from keras.layers import Dense, Activation, Flatten\n",
        "from keras.optimizers import Adam\n",
        "\n",
        "from rl.agents.dqn import DQNAgent\n",
        "from rl.policy import EpsGreedyQPolicy\n",
        "from rl.memory import SequentialMemory\n",
        "\n",
        "\n",
        "def DeepReinforcementLearning(env,episodes, seq_memory_limit=50000,warmup_steps=100, target_model_update=1e-2, optimizer=Adam(lr=1e-3),metrics=['mae']):\n",
        "  ## create model -> DQNSolver\n",
        "  nb_actions = env.action_space.n\n",
        "  model = Sequential()\n",
        "  model.add(Flatten(input_shape=(1,) + env.observation_space.shape))\n",
        "  model.add(Dense(16))\n",
        "  model.add(Activation('relu'))\n",
        "  model.add(Dense(nb_actions))\n",
        "  model.add(Activation('linear'))\n",
        "  # print(model.summary())\n",
        "\n",
        "  ## train model\n",
        "  policy = EpsGreedyQPolicy()\n",
        "  memory = SequentialMemory(limit=seq_memory_limit, window_length=1)\n",
        "  dqn = DQNAgent(model=model, nb_actions=nb_actions, memory=memory, nb_steps_warmup=warmup_steps,\n",
        "  target_model_update=target_model_update, policy=policy)\n",
        "  dqn.compile(optimizer=optimizer, metrics=metrics)\n",
        "  # Okay, now it's time to learn something! We visualize the training here for show, but this slows down training quite a lot. \n",
        "  # dqn.fit(env, nb_steps=5000, visualize=True, verbose=2)\n",
        "  history = dqn.fit(env, nb_steps=episodes, visualize=False, verbose=2)\n",
        "  return dqn,history\n",
        "\n",
        "\n"
      ],
      "execution_count": 0,
      "outputs": []
    },
    {
      "cell_type": "code",
      "metadata": {
        "id": "ZbXE5aXgmybR",
        "colab_type": "code",
        "outputId": "91e5e942-aa3f-4e3a-a323-5fed34d401af",
        "colab": {
          "base_uri": "https://localhost:8080/",
          "height": 496
        }
      },
      "source": [
        "model,history=DeepReinforcementLearning(env=env,episodes=episodes)"
      ],
      "execution_count": 0,
      "outputs": [
        {
          "output_type": "stream",
          "text": [
            "Training for 5000 steps ...\n",
            "  200/5000: episode: 1, duration: 1.700s, episode steps: 200, steps per second: 118, episode reward: -200.000, mean reward: -1.000 [-1.000, -1.000], mean action: 0.125 [0.000, 2.000], mean observation: -0.324 [-0.723, 0.008], loss: 0.267459, mean_absolute_error: 0.529255, mean_q: -0.143752\n",
            "  400/5000: episode: 2, duration: 0.625s, episode steps: 200, steps per second: 320, episode reward: -200.000, mean reward: -1.000 [-1.000, -1.000], mean action: 0.235 [0.000, 2.000], mean observation: -0.315 [-0.875, 0.020], loss: 0.079913, mean_absolute_error: 0.986838, mean_q: -1.159481\n",
            "  600/5000: episode: 3, duration: 0.645s, episode steps: 200, steps per second: 310, episode reward: -200.000, mean reward: -1.000 [-1.000, -1.000], mean action: 0.065 [0.000, 2.000], mean observation: -0.328 [-0.727, 0.006], loss: 0.032158, mean_absolute_error: 1.864269, mean_q: -2.615932\n",
            "  800/5000: episode: 4, duration: 0.682s, episode steps: 200, steps per second: 293, episode reward: -200.000, mean reward: -1.000 [-1.000, -1.000], mean action: 0.300 [0.000, 2.000], mean observation: -0.312 [-0.763, 0.011], loss: 0.035421, mean_absolute_error: 2.869748, mean_q: -4.206789\n",
            " 1000/5000: episode: 5, duration: 0.706s, episode steps: 200, steps per second: 283, episode reward: -200.000, mean reward: -1.000 [-1.000, -1.000], mean action: 1.230 [0.000, 2.000], mean observation: -0.237 [-0.898, 0.068], loss: 0.071843, mean_absolute_error: 3.874387, mean_q: -5.656632\n",
            " 1200/5000: episode: 6, duration: 0.668s, episode steps: 200, steps per second: 299, episode reward: -200.000, mean reward: -1.000 [-1.000, -1.000], mean action: 1.320 [0.000, 2.000], mean observation: -0.231 [-0.731, 0.017], loss: 0.130904, mean_absolute_error: 4.760862, mean_q: -6.988010\n",
            " 1400/5000: episode: 7, duration: 0.651s, episode steps: 200, steps per second: 307, episode reward: -200.000, mean reward: -1.000 [-1.000, -1.000], mean action: 1.310 [0.000, 2.000], mean observation: -0.243 [-0.633, 0.012], loss: 0.144720, mean_absolute_error: 5.681536, mean_q: -8.399820\n",
            " 1600/5000: episode: 8, duration: 0.647s, episode steps: 200, steps per second: 309, episode reward: -200.000, mean reward: -1.000 [-1.000, -1.000], mean action: 1.110 [0.000, 2.000], mean observation: -0.254 [-0.855, 0.027], loss: 0.185491, mean_absolute_error: 6.672172, mean_q: -9.887903\n",
            " 1800/5000: episode: 9, duration: 0.655s, episode steps: 200, steps per second: 305, episode reward: -200.000, mean reward: -1.000 [-1.000, -1.000], mean action: 1.060 [0.000, 2.000], mean observation: -0.255 [-0.874, 0.032], loss: 0.363784, mean_absolute_error: 7.667269, mean_q: -11.357835\n",
            " 2000/5000: episode: 10, duration: 0.676s, episode steps: 200, steps per second: 296, episode reward: -200.000, mean reward: -1.000 [-1.000, -1.000], mean action: 1.295 [0.000, 2.000], mean observation: -0.241 [-0.680, 0.021], loss: 0.314612, mean_absolute_error: 8.575756, mean_q: -12.719255\n",
            " 2200/5000: episode: 11, duration: 0.686s, episode steps: 200, steps per second: 291, episode reward: -200.000, mean reward: -1.000 [-1.000, -1.000], mean action: 1.255 [0.000, 2.000], mean observation: -0.252 [-0.765, 0.024], loss: 0.370258, mean_absolute_error: 9.485623, mean_q: -14.077471\n",
            " 2400/5000: episode: 12, duration: 0.703s, episode steps: 200, steps per second: 285, episode reward: -200.000, mean reward: -1.000 [-1.000, -1.000], mean action: 1.085 [0.000, 2.000], mean observation: -0.253 [-0.779, 0.025], loss: 0.713531, mean_absolute_error: 10.447432, mean_q: -15.458114\n",
            " 2600/5000: episode: 13, duration: 0.700s, episode steps: 200, steps per second: 286, episode reward: -200.000, mean reward: -1.000 [-1.000, -1.000], mean action: 1.560 [0.000, 2.000], mean observation: -0.205 [-0.755, 0.031], loss: 0.666869, mean_absolute_error: 11.250232, mean_q: -16.659090\n",
            " 2800/5000: episode: 14, duration: 0.675s, episode steps: 200, steps per second: 296, episode reward: -200.000, mean reward: -1.000 [-1.000, -1.000], mean action: 1.600 [0.000, 2.000], mean observation: -0.227 [-0.659, 0.016], loss: 0.877470, mean_absolute_error: 12.004557, mean_q: -17.729399\n",
            " 3000/5000: episode: 15, duration: 0.645s, episode steps: 200, steps per second: 310, episode reward: -200.000, mean reward: -1.000 [-1.000, -1.000], mean action: 1.385 [0.000, 2.000], mean observation: -0.230 [-0.608, 0.016], loss: 0.843757, mean_absolute_error: 12.821532, mean_q: -19.021860\n",
            " 3200/5000: episode: 16, duration: 0.660s, episode steps: 200, steps per second: 303, episode reward: -200.000, mean reward: -1.000 [-1.000, -1.000], mean action: 1.420 [0.000, 2.000], mean observation: -0.230 [-0.864, 0.030], loss: 1.172236, mean_absolute_error: 13.565224, mean_q: -20.095480\n",
            " 3400/5000: episode: 17, duration: 0.664s, episode steps: 200, steps per second: 301, episode reward: -200.000, mean reward: -1.000 [-1.000, -1.000], mean action: 1.100 [0.000, 2.000], mean observation: -0.260 [-0.865, 0.039], loss: 0.849199, mean_absolute_error: 14.361671, mean_q: -21.340593\n",
            " 3600/5000: episode: 18, duration: 0.677s, episode steps: 200, steps per second: 295, episode reward: -200.000, mean reward: -1.000 [-1.000, -1.000], mean action: 1.155 [0.000, 2.000], mean observation: -0.233 [-1.071, 0.051], loss: 1.429589, mean_absolute_error: 15.171792, mean_q: -22.502281\n",
            " 3800/5000: episode: 19, duration: 0.645s, episode steps: 200, steps per second: 310, episode reward: -200.000, mean reward: -1.000 [-1.000, -1.000], mean action: 1.395 [0.000, 2.000], mean observation: -0.229 [-0.630, 0.014], loss: 1.272380, mean_absolute_error: 15.872351, mean_q: -23.543451\n",
            " 4000/5000: episode: 20, duration: 0.669s, episode steps: 200, steps per second: 299, episode reward: -200.000, mean reward: -1.000 [-1.000, -1.000], mean action: 1.110 [0.000, 2.000], mean observation: -0.245 [-0.763, 0.020], loss: 1.317198, mean_absolute_error: 16.601141, mean_q: -24.664818\n",
            " 4200/5000: episode: 21, duration: 0.668s, episode steps: 200, steps per second: 299, episode reward: -200.000, mean reward: -1.000 [-1.000, -1.000], mean action: 1.155 [0.000, 2.000], mean observation: -0.256 [-0.972, 0.042], loss: 1.498540, mean_absolute_error: 17.379601, mean_q: -25.812607\n",
            " 4400/5000: episode: 22, duration: 0.679s, episode steps: 200, steps per second: 295, episode reward: -200.000, mean reward: -1.000 [-1.000, -1.000], mean action: 1.705 [0.000, 2.000], mean observation: -0.213 [-0.582, 0.017], loss: 1.984381, mean_absolute_error: 18.040968, mean_q: -26.758657\n",
            " 4600/5000: episode: 23, duration: 0.682s, episode steps: 200, steps per second: 293, episode reward: -200.000, mean reward: -1.000 [-1.000, -1.000], mean action: 1.360 [0.000, 2.000], mean observation: -0.238 [-0.983, 0.044], loss: 1.917657, mean_absolute_error: 18.645115, mean_q: -27.690153\n",
            " 4800/5000: episode: 24, duration: 0.668s, episode steps: 200, steps per second: 299, episode reward: -200.000, mean reward: -1.000 [-1.000, -1.000], mean action: 1.270 [0.000, 2.000], mean observation: -0.235 [-0.951, 0.036], loss: 1.724928, mean_absolute_error: 19.320423, mean_q: -28.669083\n",
            " 5000/5000: episode: 25, duration: 0.656s, episode steps: 200, steps per second: 305, episode reward: -200.000, mean reward: -1.000 [-1.000, -1.000], mean action: 1.550 [0.000, 2.000], mean observation: -0.216 [-0.824, 0.102], loss: 1.891975, mean_absolute_error: 19.941631, mean_q: -29.593544\n",
            "done, took 17.769 seconds\n"
          ],
          "name": "stdout"
        }
      ]
    },
    {
      "cell_type": "code",
      "metadata": {
        "id": "0Fg4fCMfyaFT",
        "colab_type": "code",
        "outputId": "2838a188-c0d8-4376-df66-a7ea4b7c87e7",
        "colab": {
          "base_uri": "https://localhost:8080/",
          "height": 34
        }
      },
      "source": [
        "history.history.values"
      ],
      "execution_count": 0,
      "outputs": [
        {
          "output_type": "execute_result",
          "data": {
            "text/plain": [
              "<function dict.values>"
            ]
          },
          "metadata": {
            "tags": []
          },
          "execution_count": 170
        }
      ]
    },
    {
      "cell_type": "code",
      "metadata": {
        "id": "eZYLGBJTP4U3",
        "colab_type": "code",
        "outputId": "79add11c-58df-46f3-ec49-08c90b4ef68e",
        "colab": {
          "base_uri": "https://localhost:8080/",
          "height": 476
        }
      },
      "source": [
        "model.test(env, nb_episodes=25, visualize=False)\n"
      ],
      "execution_count": 0,
      "outputs": [
        {
          "output_type": "stream",
          "text": [
            "Testing for 25 episodes ...\n",
            "Episode 1: reward: -200.000, steps: 200\n",
            "Episode 2: reward: -200.000, steps: 200\n",
            "Episode 3: reward: -200.000, steps: 200\n",
            "Episode 4: reward: -200.000, steps: 200\n",
            "Episode 5: reward: -200.000, steps: 200\n",
            "Episode 6: reward: -200.000, steps: 200\n",
            "Episode 7: reward: -200.000, steps: 200\n",
            "Episode 8: reward: -200.000, steps: 200\n",
            "Episode 9: reward: -200.000, steps: 200\n",
            "Episode 10: reward: -200.000, steps: 200\n",
            "Episode 11: reward: -200.000, steps: 200\n",
            "Episode 12: reward: -200.000, steps: 200\n",
            "Episode 13: reward: -200.000, steps: 200\n",
            "Episode 14: reward: -200.000, steps: 200\n",
            "Episode 15: reward: -200.000, steps: 200\n",
            "Episode 16: reward: -200.000, steps: 200\n",
            "Episode 17: reward: -200.000, steps: 200\n",
            "Episode 18: reward: -200.000, steps: 200\n",
            "Episode 19: reward: -200.000, steps: 200\n",
            "Episode 20: reward: -200.000, steps: 200\n",
            "Episode 21: reward: -200.000, steps: 200\n",
            "Episode 22: reward: -200.000, steps: 200\n",
            "Episode 23: reward: -200.000, steps: 200\n",
            "Episode 24: reward: -200.000, steps: 200\n",
            "Episode 25: reward: -200.000, steps: 200\n"
          ],
          "name": "stdout"
        },
        {
          "output_type": "execute_result",
          "data": {
            "text/plain": [
              "<keras.callbacks.History at 0x7f628a4b9ba8>"
            ]
          },
          "metadata": {
            "tags": []
          },
          "execution_count": 172
        }
      ]
    }
  ]
}