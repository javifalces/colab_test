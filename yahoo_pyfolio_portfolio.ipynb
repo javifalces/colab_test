{
  "nbformat": 4,
  "nbformat_minor": 0,
  "metadata": {
    "colab": {
      "name": "yahoo pyfolio portfolio.ipynb",
      "version": "0.3.2",
      "provenance": [],
      "private_outputs": true,
      "collapsed_sections": [],
      "toc_visible": true,
      "include_colab_link": true
    },
    "kernelspec": {
      "name": "python3",
      "display_name": "Python 3"
    }
  },
  "cells": [
    {
      "cell_type": "markdown",
      "metadata": {
        "id": "view-in-github",
        "colab_type": "text"
      },
      "source": [
        "<a href=\"https://colab.research.google.com/github/tradeasystems/colab_test/blob/master/yahoo_pyfolio_portfolio.ipynb\" target=\"_parent\"><img src=\"https://colab.research.google.com/assets/colab-badge.svg\" alt=\"Open In Colab\"/></a>"
      ]
    },
    {
      "cell_type": "code",
      "metadata": {
        "id": "NbghgiVRHl6R",
        "colab_type": "code",
        "colab": {}
      },
      "source": [
        "!pip install yfinance\n",
        "!pip install pyfolio\n",
        "\n",
        "#Restart environment"
      ],
      "execution_count": 0,
      "outputs": []
    },
    {
      "cell_type": "code",
      "metadata": {
        "id": "xq9jHum8Iuss",
        "colab_type": "code",
        "colab": {}
      },
      "source": [
        "import pandas as pd\n",
        "import numpy as np"
      ],
      "execution_count": 0,
      "outputs": []
    },
    {
      "cell_type": "code",
      "metadata": {
        "id": "D7DEefwu3VNu",
        "colab_type": "code",
        "colab": {}
      },
      "source": [
        "from google.colab import drive\n",
        "drive.mount('/content/drive')"
      ],
      "execution_count": 0,
      "outputs": []
    },
    {
      "cell_type": "markdown",
      "metadata": {
        "id": "J86YT1ssKd1k",
        "colab_type": "text"
      },
      "source": [
        "##Download portfolio from [yahoo](https://es.finance.yahoo.com/portfolios)"
      ]
    },
    {
      "cell_type": "code",
      "metadata": {
        "id": "jNhX76toIm7N",
        "colab_type": "code",
        "colab": {}
      },
      "source": [
        "#I export yahoo portfolio into this folder in google drive\n",
        "# my yahoo portfolio has in comments a structure to know exposure to different assets/countries by a dot\n",
        "# Comment column\n",
        "portfolio = pd.DataFrame.from_csv('/content/drive/My Drive/Colab Notebooks/quotes.csv')\n",
        "portfolio.head()\n"
      ],
      "execution_count": 0,
      "outputs": []
    },
    {
      "cell_type": "markdown",
      "metadata": {
        "id": "UdVJ2TUZNeQG",
        "colab_type": "text"
      },
      "source": [
        "## Update current price"
      ]
    },
    {
      "cell_type": "code",
      "metadata": {
        "id": "7zv7GVnvKW-k",
        "colab_type": "code",
        "colab": {}
      },
      "source": [
        "import yfinance as yf\n",
        "\n",
        "symbols = set(portfolio.index)\n",
        "symbols_str = ' '.join(str(e) for e in symbols)\n",
        "last_data = yf.download(symbols_str)\n",
        "last_data.tail()"
      ],
      "execution_count": 0,
      "outputs": []
    },
    {
      "cell_type": "code",
      "metadata": {
        "id": "LCLKCrm-4qU-",
        "colab_type": "code",
        "colab": {}
      },
      "source": [
        "updated_current_price = []\n",
        "for symbol in portfolio.index:\n",
        "  updated_current_price.append(last_data['Close'][symbol][-1])\n",
        "portfolio['Current Price'] = updated_current_price\n",
        "portfolio.head()"
      ],
      "execution_count": 0,
      "outputs": []
    },
    {
      "cell_type": "code",
      "metadata": {
        "id": "BQWaXvbHI-Jx",
        "colab_type": "code",
        "colab": {}
      },
      "source": [
        "\n",
        "money_invest = portfolio['Purchase Price']*portfolio['Quantity']\n",
        "\n",
        "money_invest_total = money_invest.sum()\n",
        "print('invested %d dollars'%money_invest_total)\n",
        "money_invest"
      ],
      "execution_count": 0,
      "outputs": []
    },
    {
      "cell_type": "code",
      "metadata": {
        "id": "ea8bayesJ53v",
        "colab_type": "code",
        "colab": {}
      },
      "source": [
        "portfolio['open_pnl'] = (portfolio['Current Price']-portfolio['Purchase Price'])*portfolio['Quantity']\n",
        "print('current pnl %d dollars'%portfolio['open_pnl'].sum())\n",
        "portfolio['open_pnl']"
      ],
      "execution_count": 0,
      "outputs": []
    },
    {
      "cell_type": "markdown",
      "metadata": {
        "id": "sqOvcyNAjjYb",
        "colab_type": "text"
      },
      "source": [
        "### PnL\n",
        "\n"
      ]
    },
    {
      "cell_type": "code",
      "metadata": {
        "id": "986mc9jNjlkX",
        "colab_type": "code",
        "colab": {}
      },
      "source": [
        "#returns\n",
        "from datetime import datetime\n",
        "close_historical = last_data['Close']\n",
        "returns_historical = (last_data['Close']/last_data['Close'].shift(1))-1\n",
        "start_portfolio = str(min(portfolio['Trade Date']))\n",
        "start_portfolio\n",
        "start_portfolio_date = datetime.strptime(start_portfolio, '%Y%m%d').date()\n",
        "returns_historical = returns_historical[start_portfolio:].fillna(method='ffill')\n",
        "returns_historical.head()"
      ],
      "execution_count": 0,
      "outputs": []
    },
    {
      "cell_type": "code",
      "metadata": {
        "id": "F_D-mGHUz7xh",
        "colab_type": "code",
        "colab": {}
      },
      "source": [
        "#position\n",
        "position_historical = pd.DataFrame(0,index=returns_historical.index,columns = returns_historical.columns)\n",
        "for index, row in portfolio.iterrows():\n",
        "  date_str = str(row['Trade Date'])\n",
        "  date = datetime.strptime(date_str, '%Y%m%d').date()\n",
        "  symbol = str(index)\n",
        "  position = row['Quantity']\n",
        "  position_historical[symbol][date:] +=position \n",
        "position_historical.tail()"
      ],
      "execution_count": 0,
      "outputs": []
    },
    {
      "cell_type": "markdown",
      "metadata": {
        "id": "9HqdCgvLB-Fq",
        "colab_type": "text"
      },
      "source": [
        "#### Historical Pnl\n"
      ]
    },
    {
      "cell_type": "code",
      "metadata": {
        "id": "DvcGTXmE2L7Q",
        "colab_type": "code",
        "colab": {}
      },
      "source": [
        "import matplotlib.pyplot as plt\n",
        "figsize= (15,10)\n",
        "portfolio_returns = position_historical*returns_historical\n",
        "portfolio_returns['total'] = portfolio_returns.sum(axis=1)\n",
        "open_pnl = portfolio_returns.cumsum()\n",
        "legend=[]\n",
        "for column in open_pnl.columns:\n",
        "  if column is not 'total':\n",
        "    legend.append(column)  \n",
        "    open_pnl[column].plot(figsize=figsize)\n",
        "  else:\n",
        "    legend.append('open_pnl')  \n",
        "    open_pnl[column].plot(figsize=figsize,color='purple',lw=3)\n",
        "\n",
        "plt.legend(legend)\n",
        "plt.grid()\n",
        "\n",
        "sharpe = (portfolio_returns['total'].mean()/(portfolio_returns['total'].std()*252))\n",
        "\n",
        "plt.title(' open_pnl=%.3f percent  sharpe=%.6f'%(open_pnl['total'][-1],sharpe))"
      ],
      "execution_count": 0,
      "outputs": []
    },
    {
      "cell_type": "code",
      "metadata": {
        "id": "ZHf5gJ-Z9D7T",
        "colab_type": "code",
        "colab": {}
      },
      "source": [
        "portfolio_returns['total'].head()"
      ],
      "execution_count": 0,
      "outputs": []
    },
    {
      "cell_type": "markdown",
      "metadata": {
        "id": "UJBs8lPHCBf0",
        "colab_type": "text"
      },
      "source": [
        "#### PyFolio Returns\n"
      ]
    },
    {
      "cell_type": "code",
      "metadata": {
        "id": "wzaZuTwZ8IN6",
        "colab_type": "code",
        "colab": {}
      },
      "source": [
        "import pyfolio\n",
        "pyfolio.create_returns_tear_sheet(portfolio_returns['total'],benchmark_rets=portfolio_returns['SPY'], return_fig=True)"
      ],
      "execution_count": 0,
      "outputs": []
    },
    {
      "cell_type": "markdown",
      "metadata": {
        "id": "EcNC-UGtNpof",
        "colab_type": "text"
      },
      "source": [
        "##Portfolio exp\n",
        "Remember that comments in yahoo need to have format\n",
        " %asset_type%.%country%"
      ]
    },
    {
      "cell_type": "code",
      "metadata": {
        "id": "0gcNmdzlNr7r",
        "colab_type": "code",
        "colab": {}
      },
      "source": [
        "portfolio[\"asset_class\"] = portfolio[\"Comment\"]\n",
        "portfolio[\"geography\"] = portfolio[\"Comment\"]\n",
        "portfolio[['asset_class','geography']] = portfolio['Comment'].str.split('.',expand=True)\n",
        "portfolio['position_pct'] = (portfolio['Current Price']*portfolio['Quantity'])/ (portfolio['Current Price']*portfolio['Quantity']).sum()\n",
        "portfolio.head()"
      ],
      "execution_count": 0,
      "outputs": []
    },
    {
      "cell_type": "code",
      "metadata": {
        "id": "qkI5dxCa7HHB",
        "colab_type": "code",
        "colab": {}
      },
      "source": [
        "print(portfolio.groupby('asset_class').sum()['position_pct'])\n",
        "portfolio.groupby('asset_class').sum()['position_pct'].plot.pie(y='position_pct', figsize=(7, 7))"
      ],
      "execution_count": 0,
      "outputs": []
    },
    {
      "cell_type": "code",
      "metadata": {
        "id": "Y9MrK2da7dhp",
        "colab_type": "code",
        "colab": {}
      },
      "source": [
        "print(portfolio.groupby('geography').sum()['position_pct'])\n",
        "portfolio.groupby('geography').sum()['position_pct'].plot.pie(y='position_pct', figsize=(7, 7))"
      ],
      "execution_count": 0,
      "outputs": []
    }
  ]
}