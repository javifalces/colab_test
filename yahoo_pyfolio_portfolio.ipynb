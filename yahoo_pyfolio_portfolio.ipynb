{
  "nbformat": 4,
  "nbformat_minor": 0,
  "metadata": {
    "colab": {
      "name": "yahoo pyfolio portfolio.ipynb",
      "version": "0.3.2",
      "provenance": [],
      "collapsed_sections": [],
      "toc_visible": true,
      "include_colab_link": true
    },
    "kernelspec": {
      "name": "python3",
      "display_name": "Python 3"
    }
  },
  "cells": [
    {
      "cell_type": "markdown",
      "metadata": {
        "id": "view-in-github",
        "colab_type": "text"
      },
      "source": [
        "<a href=\"https://colab.research.google.com/github/tradeasystems/colab_test/blob/master/yahoo_pyfolio_portfolio.ipynb\" target=\"_parent\"><img src=\"https://colab.research.google.com/assets/colab-badge.svg\" alt=\"Open In Colab\"/></a>"
      ]
    },
    {
      "cell_type": "markdown",
      "metadata": {
        "id": "xOKNf_7wEK-U",
        "colab_type": "text"
      },
      "source": [
        "# Yahoo Portfolio"
      ]
    },
    {
      "cell_type": "code",
      "metadata": {
        "id": "NbghgiVRHl6R",
        "colab_type": "code",
        "colab": {
          "base_uri": "https://localhost:8080/",
          "height": 853
        },
        "outputId": "edf89d2e-b0b3-4609-8d67-6831a177f8f0"
      },
      "source": [
        "!pip install yfinance\n",
        "!pip install pyfolio\n",
        "\n",
        "#Restart environment"
      ],
      "execution_count": 41,
      "outputs": [
        {
          "output_type": "stream",
          "text": [
            "Requirement already satisfied: yfinance in /usr/local/lib/python3.6/dist-packages (0.1.44)\n",
            "Requirement already satisfied: numpy>=1.15 in /usr/local/lib/python3.6/dist-packages (from yfinance) (1.16.4)\n",
            "Requirement already satisfied: multitasking>=0.0.7 in /usr/local/lib/python3.6/dist-packages (from yfinance) (0.0.9)\n",
            "Requirement already satisfied: requests>=2.20 in /usr/local/lib/python3.6/dist-packages (from yfinance) (2.21.0)\n",
            "Requirement already satisfied: pandas>=0.24 in /usr/local/lib/python3.6/dist-packages (from yfinance) (0.24.2)\n",
            "Requirement already satisfied: chardet<3.1.0,>=3.0.2 in /usr/local/lib/python3.6/dist-packages (from requests>=2.20->yfinance) (3.0.4)\n",
            "Requirement already satisfied: idna<2.9,>=2.5 in /usr/local/lib/python3.6/dist-packages (from requests>=2.20->yfinance) (2.8)\n",
            "Requirement already satisfied: urllib3<1.25,>=1.21.1 in /usr/local/lib/python3.6/dist-packages (from requests>=2.20->yfinance) (1.24.3)\n",
            "Requirement already satisfied: certifi>=2017.4.17 in /usr/local/lib/python3.6/dist-packages (from requests>=2.20->yfinance) (2019.6.16)\n",
            "Requirement already satisfied: python-dateutil>=2.5.0 in /usr/local/lib/python3.6/dist-packages (from pandas>=0.24->yfinance) (2.5.3)\n",
            "Requirement already satisfied: pytz>=2011k in /usr/local/lib/python3.6/dist-packages (from pandas>=0.24->yfinance) (2018.9)\n",
            "Requirement already satisfied: six>=1.5 in /usr/local/lib/python3.6/dist-packages (from python-dateutil>=2.5.0->pandas>=0.24->yfinance) (1.12.0)\n",
            "Requirement already satisfied: pyfolio in /usr/local/lib/python3.6/dist-packages (0.9.2)\n",
            "Requirement already satisfied: ipython>=3.2.3 in /usr/local/lib/python3.6/dist-packages (from pyfolio) (5.5.0)\n",
            "Requirement already satisfied: empyrical>=0.5.0 in /usr/local/lib/python3.6/dist-packages (from pyfolio) (0.5.2)\n",
            "Requirement already satisfied: pandas>=0.18.1 in /usr/local/lib/python3.6/dist-packages (from pyfolio) (0.24.2)\n",
            "Requirement already satisfied: numpy>=1.11.1 in /usr/local/lib/python3.6/dist-packages (from pyfolio) (1.16.4)\n",
            "Requirement already satisfied: pytz>=2014.10 in /usr/local/lib/python3.6/dist-packages (from pyfolio) (2018.9)\n",
            "Requirement already satisfied: scipy>=0.14.0 in /usr/local/lib/python3.6/dist-packages (from pyfolio) (1.3.1)\n",
            "Requirement already satisfied: seaborn>=0.7.1 in /usr/local/lib/python3.6/dist-packages (from pyfolio) (0.9.0)\n",
            "Requirement already satisfied: scikit-learn>=0.16.1 in /usr/local/lib/python3.6/dist-packages (from pyfolio) (0.21.3)\n",
            "Requirement already satisfied: matplotlib>=1.4.0 in /usr/local/lib/python3.6/dist-packages (from pyfolio) (3.0.3)\n",
            "Requirement already satisfied: pickleshare in /usr/local/lib/python3.6/dist-packages (from ipython>=3.2.3->pyfolio) (0.7.5)\n",
            "Requirement already satisfied: pexpect; sys_platform != \"win32\" in /usr/local/lib/python3.6/dist-packages (from ipython>=3.2.3->pyfolio) (4.7.0)\n",
            "Requirement already satisfied: prompt-toolkit<2.0.0,>=1.0.4 in /usr/local/lib/python3.6/dist-packages (from ipython>=3.2.3->pyfolio) (1.0.16)\n",
            "Requirement already satisfied: decorator in /usr/local/lib/python3.6/dist-packages (from ipython>=3.2.3->pyfolio) (4.4.0)\n",
            "Requirement already satisfied: simplegeneric>0.8 in /usr/local/lib/python3.6/dist-packages (from ipython>=3.2.3->pyfolio) (0.8.1)\n",
            "Requirement already satisfied: pygments in /usr/local/lib/python3.6/dist-packages (from ipython>=3.2.3->pyfolio) (2.1.3)\n",
            "Requirement already satisfied: setuptools>=18.5 in /usr/local/lib/python3.6/dist-packages (from ipython>=3.2.3->pyfolio) (41.1.0)\n",
            "Requirement already satisfied: traitlets>=4.2 in /usr/local/lib/python3.6/dist-packages (from ipython>=3.2.3->pyfolio) (4.3.2)\n",
            "Requirement already satisfied: pandas-datareader>=0.2 in /usr/local/lib/python3.6/dist-packages (from empyrical>=0.5.0->pyfolio) (0.7.4)\n",
            "Requirement already satisfied: bottleneck>=1.0.0 in /usr/local/lib/python3.6/dist-packages (from empyrical>=0.5.0->pyfolio) (1.2.1)\n",
            "Requirement already satisfied: python-dateutil>=2.5.0 in /usr/local/lib/python3.6/dist-packages (from pandas>=0.18.1->pyfolio) (2.5.3)\n",
            "Requirement already satisfied: joblib>=0.11 in /usr/local/lib/python3.6/dist-packages (from scikit-learn>=0.16.1->pyfolio) (0.13.2)\n",
            "Requirement already satisfied: pyparsing!=2.0.4,!=2.1.2,!=2.1.6,>=2.0.1 in /usr/local/lib/python3.6/dist-packages (from matplotlib>=1.4.0->pyfolio) (2.4.2)\n",
            "Requirement already satisfied: kiwisolver>=1.0.1 in /usr/local/lib/python3.6/dist-packages (from matplotlib>=1.4.0->pyfolio) (1.1.0)\n",
            "Requirement already satisfied: cycler>=0.10 in /usr/local/lib/python3.6/dist-packages (from matplotlib>=1.4.0->pyfolio) (0.10.0)\n",
            "Requirement already satisfied: ptyprocess>=0.5 in /usr/local/lib/python3.6/dist-packages (from pexpect; sys_platform != \"win32\"->ipython>=3.2.3->pyfolio) (0.6.0)\n",
            "Requirement already satisfied: wcwidth in /usr/local/lib/python3.6/dist-packages (from prompt-toolkit<2.0.0,>=1.0.4->ipython>=3.2.3->pyfolio) (0.1.7)\n",
            "Requirement already satisfied: six>=1.9.0 in /usr/local/lib/python3.6/dist-packages (from prompt-toolkit<2.0.0,>=1.0.4->ipython>=3.2.3->pyfolio) (1.12.0)\n",
            "Requirement already satisfied: ipython-genutils in /usr/local/lib/python3.6/dist-packages (from traitlets>=4.2->ipython>=3.2.3->pyfolio) (0.2.0)\n",
            "Requirement already satisfied: requests>=2.3.0 in /usr/local/lib/python3.6/dist-packages (from pandas-datareader>=0.2->empyrical>=0.5.0->pyfolio) (2.21.0)\n",
            "Requirement already satisfied: lxml in /usr/local/lib/python3.6/dist-packages (from pandas-datareader>=0.2->empyrical>=0.5.0->pyfolio) (4.2.6)\n",
            "Requirement already satisfied: wrapt in /usr/local/lib/python3.6/dist-packages (from pandas-datareader>=0.2->empyrical>=0.5.0->pyfolio) (1.11.2)\n",
            "Requirement already satisfied: certifi>=2017.4.17 in /usr/local/lib/python3.6/dist-packages (from requests>=2.3.0->pandas-datareader>=0.2->empyrical>=0.5.0->pyfolio) (2019.6.16)\n",
            "Requirement already satisfied: chardet<3.1.0,>=3.0.2 in /usr/local/lib/python3.6/dist-packages (from requests>=2.3.0->pandas-datareader>=0.2->empyrical>=0.5.0->pyfolio) (3.0.4)\n",
            "Requirement already satisfied: idna<2.9,>=2.5 in /usr/local/lib/python3.6/dist-packages (from requests>=2.3.0->pandas-datareader>=0.2->empyrical>=0.5.0->pyfolio) (2.8)\n",
            "Requirement already satisfied: urllib3<1.25,>=1.21.1 in /usr/local/lib/python3.6/dist-packages (from requests>=2.3.0->pandas-datareader>=0.2->empyrical>=0.5.0->pyfolio) (1.24.3)\n"
          ],
          "name": "stdout"
        }
      ]
    },
    {
      "cell_type": "code",
      "metadata": {
        "id": "xq9jHum8Iuss",
        "colab_type": "code",
        "colab": {}
      },
      "source": [
        "import pandas as pd\n",
        "import numpy as np"
      ],
      "execution_count": 0,
      "outputs": []
    },
    {
      "cell_type": "code",
      "metadata": {
        "id": "D7DEefwu3VNu",
        "colab_type": "code",
        "colab": {}
      },
      "source": [
        "from google.colab import drive\n",
        "drive.mount('/content/drive')"
      ],
      "execution_count": 0,
      "outputs": []
    },
    {
      "cell_type": "markdown",
      "metadata": {
        "id": "J86YT1ssKd1k",
        "colab_type": "text"
      },
      "source": [
        "##Download portfolio from [yahoo](https://es.finance.yahoo.com/portfolios)"
      ]
    },
    {
      "cell_type": "code",
      "metadata": {
        "id": "jNhX76toIm7N",
        "colab_type": "code",
        "colab": {}
      },
      "source": [
        "#I export yahoo portfolio into this folder in google drive\n",
        "# my yahoo portfolio has in comments a structure to know exposure to different assets/countries by a dot\n",
        "# Comment column\n",
        "portfolio = pd.DataFrame.from_csv('/content/drive/My Drive/Colab Notebooks/quotes.csv')\n",
        "portfolio.head()\n"
      ],
      "execution_count": 0,
      "outputs": []
    },
    {
      "cell_type": "markdown",
      "metadata": {
        "id": "UdVJ2TUZNeQG",
        "colab_type": "text"
      },
      "source": [
        "#### Update current price"
      ]
    },
    {
      "cell_type": "code",
      "metadata": {
        "id": "7zv7GVnvKW-k",
        "colab_type": "code",
        "colab": {}
      },
      "source": [
        "import yfinance as yf\n",
        "\n",
        "symbols = set(portfolio.index)\n",
        "symbols_str = ' '.join(str(e) for e in symbols)\n",
        "last_data = yf.download(symbols_str)\n",
        "last_data.tail()"
      ],
      "execution_count": 0,
      "outputs": []
    },
    {
      "cell_type": "code",
      "metadata": {
        "id": "LCLKCrm-4qU-",
        "colab_type": "code",
        "colab": {}
      },
      "source": [
        "updated_current_price = []\n",
        "for symbol in portfolio.index:\n",
        "  updated_current_price.append(last_data['Close'][symbol][-1])\n",
        "portfolio['Current Price'] = updated_current_price\n",
        "portfolio.head()"
      ],
      "execution_count": 0,
      "outputs": []
    },
    {
      "cell_type": "code",
      "metadata": {
        "id": "BQWaXvbHI-Jx",
        "colab_type": "code",
        "colab": {}
      },
      "source": [
        "\n",
        "money_invest = portfolio['Purchase Price']*portfolio['Quantity']\n",
        "\n",
        "money_invest_total = money_invest.sum()\n",
        "print('invested %d dollars'%money_invest_total)\n",
        "money_invest"
      ],
      "execution_count": 0,
      "outputs": []
    },
    {
      "cell_type": "code",
      "metadata": {
        "id": "ea8bayesJ53v",
        "colab_type": "code",
        "colab": {}
      },
      "source": [
        "portfolio['open_pnl'] = (portfolio['Current Price']-portfolio['Purchase Price'])*portfolio['Quantity']\n",
        "print('current pnl %d dollars'%portfolio['open_pnl'].sum())\n",
        "portfolio['open_pnl']"
      ],
      "execution_count": 0,
      "outputs": []
    },
    {
      "cell_type": "markdown",
      "metadata": {
        "id": "sqOvcyNAjjYb",
        "colab_type": "text"
      },
      "source": [
        "## PnL\n",
        "\n"
      ]
    },
    {
      "cell_type": "code",
      "metadata": {
        "id": "986mc9jNjlkX",
        "colab_type": "code",
        "colab": {}
      },
      "source": [
        "#returns\n",
        "from datetime import datetime\n",
        "close_historical = last_data['Close']\n",
        "returns_historical = (last_data['Close']/last_data['Close'].shift(1))-1\n",
        "start_portfolio = str(min(portfolio['Trade Date']))\n",
        "start_portfolio\n",
        "start_portfolio_date = datetime.strptime(start_portfolio, '%Y%m%d').date()\n",
        "returns_historical = returns_historical[start_portfolio:].fillna(method='ffill')\n",
        "returns_historical.head()"
      ],
      "execution_count": 0,
      "outputs": []
    },
    {
      "cell_type": "code",
      "metadata": {
        "id": "F_D-mGHUz7xh",
        "colab_type": "code",
        "colab": {}
      },
      "source": [
        "#position\n",
        "position_historical = pd.DataFrame(0,index=returns_historical.index,columns = returns_historical.columns)\n",
        "for index, row in portfolio.iterrows():\n",
        "  date_str = str(row['Trade Date'])\n",
        "  date = datetime.strptime(date_str, '%Y%m%d').date()\n",
        "  symbol = str(index)\n",
        "  position = row['Quantity']\n",
        "  position_historical[symbol][date:] +=position \n",
        "position_historical.tail()"
      ],
      "execution_count": 0,
      "outputs": []
    },
    {
      "cell_type": "markdown",
      "metadata": {
        "id": "9HqdCgvLB-Fq",
        "colab_type": "text"
      },
      "source": [
        "#### Historical Pnl\n"
      ]
    },
    {
      "cell_type": "code",
      "metadata": {
        "id": "DvcGTXmE2L7Q",
        "colab_type": "code",
        "colab": {}
      },
      "source": [
        "import matplotlib.pyplot as plt\n",
        "figsize= (15,10)\n",
        "portfolio_returns = position_historical*returns_historical\n",
        "portfolio_returns['total'] = portfolio_returns.sum(axis=1)\n",
        "open_pnl = portfolio_returns.cumsum()\n",
        "legend=[]\n",
        "for column in open_pnl.columns:\n",
        "  if column is not 'total':\n",
        "    legend.append(column)  \n",
        "    open_pnl[column].plot(figsize=figsize)\n",
        "  else:\n",
        "    legend.append('open_pnl')  \n",
        "    open_pnl[column].plot(figsize=figsize,color='purple',lw=3)\n",
        "\n",
        "plt.legend(legend)\n",
        "plt.grid()\n",
        "\n",
        "sharpe = (portfolio_returns['total'].mean()/(portfolio_returns['total'].std()*252))\n",
        "\n",
        "plt.title(' open_pnl=%.3f percent  sharpe=%.6f'%(open_pnl['total'][-1],sharpe))"
      ],
      "execution_count": 0,
      "outputs": []
    },
    {
      "cell_type": "code",
      "metadata": {
        "id": "ZHf5gJ-Z9D7T",
        "colab_type": "code",
        "colab": {}
      },
      "source": [
        "portfolio_returns['total'].head()"
      ],
      "execution_count": 0,
      "outputs": []
    },
    {
      "cell_type": "markdown",
      "metadata": {
        "id": "UJBs8lPHCBf0",
        "colab_type": "text"
      },
      "source": [
        "#### PyFolio Returns\n"
      ]
    },
    {
      "cell_type": "code",
      "metadata": {
        "id": "wzaZuTwZ8IN6",
        "colab_type": "code",
        "colab": {}
      },
      "source": [
        "import pyfolio\n",
        "pyfolio.create_returns_tear_sheet(portfolio_returns['total'],benchmark_rets=portfolio_returns['SPY'], return_fig=True)"
      ],
      "execution_count": 0,
      "outputs": []
    },
    {
      "cell_type": "markdown",
      "metadata": {
        "id": "EcNC-UGtNpof",
        "colab_type": "text"
      },
      "source": [
        "##Portfolio exp\n",
        "Remember that comments in yahoo need to have format\n",
        " %asset_type%.%country%"
      ]
    },
    {
      "cell_type": "code",
      "metadata": {
        "id": "0gcNmdzlNr7r",
        "colab_type": "code",
        "colab": {}
      },
      "source": [
        "portfolio[\"asset_class\"] = portfolio[\"Comment\"]\n",
        "portfolio[\"geography\"] = portfolio[\"Comment\"]\n",
        "portfolio[['asset_class','geography']] = portfolio['Comment'].str.split('.',expand=True)\n",
        "portfolio['position_pct'] = (portfolio['Current Price']*portfolio['Quantity'])/ (portfolio['Current Price']*portfolio['Quantity']).sum()\n",
        "portfolio.head()"
      ],
      "execution_count": 0,
      "outputs": []
    },
    {
      "cell_type": "code",
      "metadata": {
        "id": "qkI5dxCa7HHB",
        "colab_type": "code",
        "colab": {}
      },
      "source": [
        "print(portfolio.groupby('asset_class').sum()['position_pct'])\n",
        "portfolio.groupby('asset_class').sum()['position_pct'].plot.pie(y='position_pct', figsize=(7, 7))"
      ],
      "execution_count": 0,
      "outputs": []
    },
    {
      "cell_type": "code",
      "metadata": {
        "id": "Y9MrK2da7dhp",
        "colab_type": "code",
        "colab": {}
      },
      "source": [
        "print(portfolio.groupby('geography').sum()['position_pct'])\n",
        "portfolio.groupby('geography').sum()['position_pct'].plot.pie(y='position_pct', figsize=(7, 7))"
      ],
      "execution_count": 0,
      "outputs": []
    }
  ]
}